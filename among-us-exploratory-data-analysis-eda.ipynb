{
 "cells": [
  {
   "cell_type": "markdown",
   "id": "844b34ef",
   "metadata": {
    "papermill": {
     "duration": 0.009621,
     "end_time": "2024-09-19T21:20:53.628529",
     "exception": false,
     "start_time": "2024-09-19T21:20:53.618908",
     "status": "completed"
    },
    "tags": []
   },
   "source": [
    "<div><h1><center>Among Us - Exploratory Data Analysis 🎮🚀</center></h1></div>\n",
    "\n",
    "## OVERVIEW 🌟\n",
    "This Notebook contains an exploratory data analysis (EDA) of gameplay statistics from the popular multiplayer game, **Among Us**. Originally released in 2018, the game surged in popularity during the summer of 2020, leading to a wealth of data regarding player performance and game dynamics.\n",
    "\n",
    "<img src = \"https://wonder-day.com/wp-content/uploads/2020/10/wonder-day-among-us-wallpapers-21.jpg\" style = \"width:900px;\">\n",
    "\n",
    "## DATASET DESCRIPTION 📊\n",
    "The dataset includes the following columns:\n",
    "\n",
    "- **Game Completed Date**: 🗓️ The date when the game was completed.\n",
    "- **Team**: 🤝 The team of the player (Crewmate or Imposter).\n",
    "- **Outcome**: 🏆 The result of the game (Win, Loss, etc.).\n",
    "- **Tasks Completed**: ✅ The number of tasks completed by a Crewmate during the game.\n",
    "- **All Tasks Completed**: ✔️ A boolean indicating whether all tasks were completed by the Crewmates during the game.\n",
    "- **Murdered**: ⚰️ A boolean indicating whether a Crewmate was murdered.\n",
    "- **Imposter Kills**: 🔪 The number of Crewmates killed by Imposters during the game.\n",
    "- **Game Length**: ⏳ The total duration of the game.\n",
    "- **Ejected**: 🚪 A boolean indicating whether a player was ejected during the game.\n",
    "- **Sabotages Fixed**: 🔧 The number of sabotages that were fixed by Crewmates.\n",
    "- **Time to Complete All Tasks**: ⏲️ The total time taken by Crewmates to complete all tasks.\n",
    "- **Rank Change**: 📈 The change in competitive rank after playing three games, influenced by performance in each game.\n",
    "- **Region/Game Code**: 🌍 The server region and game code of the match.\n",
    "\n",
    "---"
   ]
  },
  {
   "cell_type": "markdown",
   "id": "e0829d2f",
   "metadata": {
    "papermill": {
     "duration": 0.007425,
     "end_time": "2024-09-19T21:20:53.644021",
     "exception": false,
     "start_time": "2024-09-19T21:20:53.636596",
     "status": "completed"
    },
    "tags": []
   },
   "source": [
    "> ## IMPORTING LIBRARIES 📂"
   ]
  },
  {
   "cell_type": "code",
   "execution_count": 1,
   "id": "28dc2874",
   "metadata": {
    "_cell_guid": "b1076dfc-b9ad-4769-8c92-a6c4dae69d19",
    "_uuid": "8f2839f25d086af736a60e9eeb907d3b93b6e0e5",
    "execution": {
     "iopub.execute_input": "2024-09-19T21:20:53.661132Z",
     "iopub.status.busy": "2024-09-19T21:20:53.660726Z",
     "iopub.status.idle": "2024-09-19T21:20:54.658701Z",
     "shell.execute_reply": "2024-09-19T21:20:54.657599Z"
    },
    "papermill": {
     "duration": 1.009571,
     "end_time": "2024-09-19T21:20:54.661355",
     "exception": false,
     "start_time": "2024-09-19T21:20:53.651784",
     "status": "completed"
    },
    "tags": []
   },
   "outputs": [],
   "source": [
    "import numpy as np\n",
    "import pandas as pd\n",
    "\n",
    "import plotly.express as px\n",
    "import plotly.graph_objects as go\n",
    "import matplotlib.pyplot as plt\n",
    "\n",
    "import glob"
   ]
  },
  {
   "cell_type": "code",
   "execution_count": 2,
   "id": "dd17ef02",
   "metadata": {
    "execution": {
     "iopub.execute_input": "2024-09-19T21:20:54.679791Z",
     "iopub.status.busy": "2024-09-19T21:20:54.678701Z",
     "iopub.status.idle": "2024-09-19T21:20:54.689990Z",
     "shell.execute_reply": "2024-09-19T21:20:54.689140Z"
    },
    "papermill": {
     "duration": 0.022625,
     "end_time": "2024-09-19T21:20:54.692241",
     "exception": false,
     "start_time": "2024-09-19T21:20:54.669616",
     "status": "completed"
    },
    "tags": []
   },
   "outputs": [],
   "source": [
    "path = '../input/among-us-dataset' \n",
    "all_files = glob.glob(path + \"/*.csv\")"
   ]
  },
  {
   "cell_type": "code",
   "execution_count": 3,
   "id": "5f784288",
   "metadata": {
    "execution": {
     "iopub.execute_input": "2024-09-19T21:20:54.709983Z",
     "iopub.status.busy": "2024-09-19T21:20:54.709588Z",
     "iopub.status.idle": "2024-09-19T21:20:54.930886Z",
     "shell.execute_reply": "2024-09-19T21:20:54.929733Z"
    },
    "papermill": {
     "duration": 0.232749,
     "end_time": "2024-09-19T21:20:54.933090",
     "exception": false,
     "start_time": "2024-09-19T21:20:54.700341",
     "status": "completed"
    },
    "tags": []
   },
   "outputs": [
    {
     "data": {
      "text/html": [
       "<div>\n",
       "<style scoped>\n",
       "    .dataframe tbody tr th:only-of-type {\n",
       "        vertical-align: middle;\n",
       "    }\n",
       "\n",
       "    .dataframe tbody tr th {\n",
       "        vertical-align: top;\n",
       "    }\n",
       "\n",
       "    .dataframe thead th {\n",
       "        text-align: right;\n",
       "    }\n",
       "</style>\n",
       "<table border=\"1\" class=\"dataframe\">\n",
       "  <thead>\n",
       "    <tr style=\"text-align: right;\">\n",
       "      <th></th>\n",
       "      <th>Game Completed Date</th>\n",
       "      <th>Team</th>\n",
       "      <th>Outcome</th>\n",
       "      <th>Task Completed</th>\n",
       "      <th>All Tasks Completed</th>\n",
       "      <th>Murdered</th>\n",
       "      <th>Imposter Kills</th>\n",
       "      <th>Game Length</th>\n",
       "      <th>Ejected</th>\n",
       "      <th>Sabotages Fixed</th>\n",
       "      <th>Time to complete all tasks</th>\n",
       "      <th>Rank Change</th>\n",
       "      <th>Region/Game Code</th>\n",
       "      <th>user_id</th>\n",
       "    </tr>\n",
       "  </thead>\n",
       "  <tbody>\n",
       "    <tr>\n",
       "      <th>0</th>\n",
       "      <td>01/04/2021 at 11:41:52 pm EST</td>\n",
       "      <td>Crewmate</td>\n",
       "      <td>Loss</td>\n",
       "      <td>2</td>\n",
       "      <td>No</td>\n",
       "      <td>Yes</td>\n",
       "      <td>-</td>\n",
       "      <td>03m 39s</td>\n",
       "      <td>No</td>\n",
       "      <td>0.0</td>\n",
       "      <td>-</td>\n",
       "      <td>NaN</td>\n",
       "      <td>NA / JRMRHF</td>\n",
       "      <td>1</td>\n",
       "    </tr>\n",
       "    <tr>\n",
       "      <th>1</th>\n",
       "      <td>01/04/2021 at 11:37:30 pm EST</td>\n",
       "      <td>Imposter</td>\n",
       "      <td>Win</td>\n",
       "      <td>-</td>\n",
       "      <td>-</td>\n",
       "      <td>-</td>\n",
       "      <td>1</td>\n",
       "      <td>08m 27s</td>\n",
       "      <td>No</td>\n",
       "      <td>NaN</td>\n",
       "      <td>-</td>\n",
       "      <td>+++</td>\n",
       "      <td>NA / JRMRHF</td>\n",
       "      <td>1</td>\n",
       "    </tr>\n",
       "    <tr>\n",
       "      <th>2</th>\n",
       "      <td>01/04/2021 at 11:28:21 pm EST</td>\n",
       "      <td>Crewmate</td>\n",
       "      <td>Loss</td>\n",
       "      <td>3</td>\n",
       "      <td>No</td>\n",
       "      <td>No</td>\n",
       "      <td>-</td>\n",
       "      <td>09m 35s</td>\n",
       "      <td>No</td>\n",
       "      <td>0.0</td>\n",
       "      <td>-</td>\n",
       "      <td>---</td>\n",
       "      <td>NA / JRMRHF</td>\n",
       "      <td>1</td>\n",
       "    </tr>\n",
       "    <tr>\n",
       "      <th>3</th>\n",
       "      <td>01/04/2021 at 11:17:55 pm EST</td>\n",
       "      <td>Crewmate</td>\n",
       "      <td>Win</td>\n",
       "      <td>6</td>\n",
       "      <td>No</td>\n",
       "      <td>No</td>\n",
       "      <td>-</td>\n",
       "      <td>08m 35s</td>\n",
       "      <td>No</td>\n",
       "      <td>0.0</td>\n",
       "      <td>-</td>\n",
       "      <td>++</td>\n",
       "      <td>NA / JRMRHF</td>\n",
       "      <td>1</td>\n",
       "    </tr>\n",
       "    <tr>\n",
       "      <th>4</th>\n",
       "      <td>01/04/2021 at 11:08:40 pm EST</td>\n",
       "      <td>Crewmate</td>\n",
       "      <td>Loss</td>\n",
       "      <td>10</td>\n",
       "      <td>Yes</td>\n",
       "      <td>Yes</td>\n",
       "      <td>-</td>\n",
       "      <td>19m 51s</td>\n",
       "      <td>No</td>\n",
       "      <td>0.0</td>\n",
       "      <td>12m 58s</td>\n",
       "      <td>--</td>\n",
       "      <td>NA / JRMRHF</td>\n",
       "      <td>1</td>\n",
       "    </tr>\n",
       "  </tbody>\n",
       "</table>\n",
       "</div>"
      ],
      "text/plain": [
       "             Game Completed Date      Team Outcome Task Completed  \\\n",
       "0  01/04/2021 at 11:41:52 pm EST  Crewmate    Loss              2   \n",
       "1  01/04/2021 at 11:37:30 pm EST  Imposter     Win              -   \n",
       "2  01/04/2021 at 11:28:21 pm EST  Crewmate    Loss              3   \n",
       "3  01/04/2021 at 11:17:55 pm EST  Crewmate     Win              6   \n",
       "4  01/04/2021 at 11:08:40 pm EST  Crewmate    Loss             10   \n",
       "\n",
       "  All Tasks Completed Murdered Imposter Kills Game Length Ejected  \\\n",
       "0                  No      Yes              -     03m 39s      No   \n",
       "1                   -        -              1     08m 27s      No   \n",
       "2                  No       No              -     09m 35s      No   \n",
       "3                  No       No              -     08m 35s      No   \n",
       "4                 Yes      Yes              -     19m 51s      No   \n",
       "\n",
       "   Sabotages Fixed Time to complete all tasks Rank Change Region/Game Code  \\\n",
       "0              0.0                          -         NaN      NA / JRMRHF   \n",
       "1              NaN                          -         +++      NA / JRMRHF   \n",
       "2              0.0                          -         ---      NA / JRMRHF   \n",
       "3              0.0                          -          ++      NA / JRMRHF   \n",
       "4              0.0                    12m 58s          --      NA / JRMRHF   \n",
       "\n",
       "   user_id  \n",
       "0        1  \n",
       "1        1  \n",
       "2        1  \n",
       "3        1  \n",
       "4        1  "
      ]
     },
     "execution_count": 3,
     "metadata": {},
     "output_type": "execute_result"
    }
   ],
   "source": [
    "li = []\n",
    "idx = 0\n",
    "for file_path in all_files:\n",
    "    idx += 1\n",
    "    df = pd.read_csv(filepath_or_buffer = file_path)\n",
    "    df['user_id'] = idx\n",
    "    li.append(df)\n",
    "\n",
    "df = pd.concat(li)\n",
    "df.head()"
   ]
  },
  {
   "cell_type": "markdown",
   "id": "159432d0",
   "metadata": {
    "papermill": {
     "duration": 0.007971,
     "end_time": "2024-09-19T21:20:54.949532",
     "exception": false,
     "start_time": "2024-09-19T21:20:54.941561",
     "status": "completed"
    },
    "tags": []
   },
   "source": [
    "---"
   ]
  },
  {
   "cell_type": "markdown",
   "id": "3ce54668",
   "metadata": {
    "papermill": {
     "duration": 0.007991,
     "end_time": "2024-09-19T21:20:54.965888",
     "exception": false,
     "start_time": "2024-09-19T21:20:54.957897",
     "status": "completed"
    },
    "tags": []
   },
   "source": [
    "> ## DATA PREPROCESSING 👨🏻‍🔧"
   ]
  },
  {
   "cell_type": "code",
   "execution_count": 4,
   "id": "04f6df66",
   "metadata": {
    "execution": {
     "iopub.execute_input": "2024-09-19T21:20:54.984116Z",
     "iopub.status.busy": "2024-09-19T21:20:54.983713Z",
     "iopub.status.idle": "2024-09-19T21:20:55.012470Z",
     "shell.execute_reply": "2024-09-19T21:20:55.011500Z"
    },
    "papermill": {
     "duration": 0.040534,
     "end_time": "2024-09-19T21:20:55.014689",
     "exception": false,
     "start_time": "2024-09-19T21:20:54.974155",
     "status": "completed"
    },
    "tags": []
   },
   "outputs": [
    {
     "data": {
      "text/html": [
       "<div>\n",
       "<style scoped>\n",
       "    .dataframe tbody tr th:only-of-type {\n",
       "        vertical-align: middle;\n",
       "    }\n",
       "\n",
       "    .dataframe tbody tr th {\n",
       "        vertical-align: top;\n",
       "    }\n",
       "\n",
       "    .dataframe thead th {\n",
       "        text-align: right;\n",
       "    }\n",
       "</style>\n",
       "<table border=\"1\" class=\"dataframe\">\n",
       "  <thead>\n",
       "    <tr style=\"text-align: right;\">\n",
       "      <th></th>\n",
       "      <th>Game Completed Date</th>\n",
       "      <th>Team</th>\n",
       "      <th>Outcome</th>\n",
       "      <th>Task Completed</th>\n",
       "      <th>All Tasks Completed</th>\n",
       "      <th>Murdered</th>\n",
       "      <th>Imposter Kills</th>\n",
       "      <th>Game Length</th>\n",
       "      <th>Ejected</th>\n",
       "      <th>Sabotages Fixed</th>\n",
       "      <th>Time to complete all tasks</th>\n",
       "      <th>Rank Change</th>\n",
       "      <th>user_id</th>\n",
       "      <th>Region</th>\n",
       "      <th>Game_Code</th>\n",
       "    </tr>\n",
       "  </thead>\n",
       "  <tbody>\n",
       "    <tr>\n",
       "      <th>0</th>\n",
       "      <td>01/04/2021 at 11:41:52 pm EST</td>\n",
       "      <td>Crewmate</td>\n",
       "      <td>Loss</td>\n",
       "      <td>2</td>\n",
       "      <td>No</td>\n",
       "      <td>Yes</td>\n",
       "      <td>-</td>\n",
       "      <td>03m 39s</td>\n",
       "      <td>No</td>\n",
       "      <td>0.0</td>\n",
       "      <td>-</td>\n",
       "      <td>NaN</td>\n",
       "      <td>1</td>\n",
       "      <td>NA</td>\n",
       "      <td>JRMRHF</td>\n",
       "    </tr>\n",
       "    <tr>\n",
       "      <th>1</th>\n",
       "      <td>01/04/2021 at 11:37:30 pm EST</td>\n",
       "      <td>Imposter</td>\n",
       "      <td>Win</td>\n",
       "      <td>-</td>\n",
       "      <td>-</td>\n",
       "      <td>-</td>\n",
       "      <td>1</td>\n",
       "      <td>08m 27s</td>\n",
       "      <td>No</td>\n",
       "      <td>NaN</td>\n",
       "      <td>-</td>\n",
       "      <td>+++</td>\n",
       "      <td>1</td>\n",
       "      <td>NA</td>\n",
       "      <td>JRMRHF</td>\n",
       "    </tr>\n",
       "    <tr>\n",
       "      <th>2</th>\n",
       "      <td>01/04/2021 at 11:28:21 pm EST</td>\n",
       "      <td>Crewmate</td>\n",
       "      <td>Loss</td>\n",
       "      <td>3</td>\n",
       "      <td>No</td>\n",
       "      <td>No</td>\n",
       "      <td>-</td>\n",
       "      <td>09m 35s</td>\n",
       "      <td>No</td>\n",
       "      <td>0.0</td>\n",
       "      <td>-</td>\n",
       "      <td>---</td>\n",
       "      <td>1</td>\n",
       "      <td>NA</td>\n",
       "      <td>JRMRHF</td>\n",
       "    </tr>\n",
       "    <tr>\n",
       "      <th>3</th>\n",
       "      <td>01/04/2021 at 11:17:55 pm EST</td>\n",
       "      <td>Crewmate</td>\n",
       "      <td>Win</td>\n",
       "      <td>6</td>\n",
       "      <td>No</td>\n",
       "      <td>No</td>\n",
       "      <td>-</td>\n",
       "      <td>08m 35s</td>\n",
       "      <td>No</td>\n",
       "      <td>0.0</td>\n",
       "      <td>-</td>\n",
       "      <td>++</td>\n",
       "      <td>1</td>\n",
       "      <td>NA</td>\n",
       "      <td>JRMRHF</td>\n",
       "    </tr>\n",
       "    <tr>\n",
       "      <th>4</th>\n",
       "      <td>01/04/2021 at 11:08:40 pm EST</td>\n",
       "      <td>Crewmate</td>\n",
       "      <td>Loss</td>\n",
       "      <td>10</td>\n",
       "      <td>Yes</td>\n",
       "      <td>Yes</td>\n",
       "      <td>-</td>\n",
       "      <td>19m 51s</td>\n",
       "      <td>No</td>\n",
       "      <td>0.0</td>\n",
       "      <td>12m 58s</td>\n",
       "      <td>--</td>\n",
       "      <td>1</td>\n",
       "      <td>NA</td>\n",
       "      <td>JRMRHF</td>\n",
       "    </tr>\n",
       "  </tbody>\n",
       "</table>\n",
       "</div>"
      ],
      "text/plain": [
       "             Game Completed Date      Team Outcome Task Completed  \\\n",
       "0  01/04/2021 at 11:41:52 pm EST  Crewmate    Loss              2   \n",
       "1  01/04/2021 at 11:37:30 pm EST  Imposter     Win              -   \n",
       "2  01/04/2021 at 11:28:21 pm EST  Crewmate    Loss              3   \n",
       "3  01/04/2021 at 11:17:55 pm EST  Crewmate     Win              6   \n",
       "4  01/04/2021 at 11:08:40 pm EST  Crewmate    Loss             10   \n",
       "\n",
       "  All Tasks Completed Murdered Imposter Kills Game Length Ejected  \\\n",
       "0                  No      Yes              -     03m 39s      No   \n",
       "1                   -        -              1     08m 27s      No   \n",
       "2                  No       No              -     09m 35s      No   \n",
       "3                  No       No              -     08m 35s      No   \n",
       "4                 Yes      Yes              -     19m 51s      No   \n",
       "\n",
       "   Sabotages Fixed Time to complete all tasks Rank Change  user_id Region  \\\n",
       "0              0.0                          -         NaN        1     NA   \n",
       "1              NaN                          -         +++        1     NA   \n",
       "2              0.0                          -         ---        1     NA   \n",
       "3              0.0                          -          ++        1     NA   \n",
       "4              0.0                    12m 58s          --        1     NA   \n",
       "\n",
       "  Game_Code  \n",
       "0    JRMRHF  \n",
       "1    JRMRHF  \n",
       "2    JRMRHF  \n",
       "3    JRMRHF  \n",
       "4    JRMRHF  "
      ]
     },
     "execution_count": 4,
     "metadata": {},
     "output_type": "execute_result"
    }
   ],
   "source": [
    "df[['Region', 'Game_Code']] = df['Region/Game Code'].str.split(' / ', expand = True)\n",
    "df.drop(columns = ['Region/Game Code'], inplace = True)\n",
    "\n",
    "df.reset_index(drop = True, inplace = True)\n",
    "df.head()"
   ]
  },
  {
   "cell_type": "code",
   "execution_count": 5,
   "id": "ede59239",
   "metadata": {
    "execution": {
     "iopub.execute_input": "2024-09-19T21:20:55.033865Z",
     "iopub.status.busy": "2024-09-19T21:20:55.033483Z",
     "iopub.status.idle": "2024-09-19T21:20:55.048360Z",
     "shell.execute_reply": "2024-09-19T21:20:55.047365Z"
    },
    "papermill": {
     "duration": 0.026793,
     "end_time": "2024-09-19T21:20:55.050371",
     "exception": false,
     "start_time": "2024-09-19T21:20:55.023578",
     "status": "completed"
    },
    "tags": []
   },
   "outputs": [
    {
     "data": {
      "text/plain": [
       "array(['EST'], dtype=object)"
      ]
     },
     "execution_count": 5,
     "metadata": {},
     "output_type": "execute_result"
    }
   ],
   "source": [
    "df['Game Completed Date'].str.split(' ', expand = True)[4].unique()"
   ]
  },
  {
   "cell_type": "code",
   "execution_count": 6,
   "id": "1433dea2",
   "metadata": {
    "execution": {
     "iopub.execute_input": "2024-09-19T21:20:55.070228Z",
     "iopub.status.busy": "2024-09-19T21:20:55.069386Z",
     "iopub.status.idle": "2024-09-19T21:20:57.361105Z",
     "shell.execute_reply": "2024-09-19T21:20:57.360116Z"
    },
    "papermill": {
     "duration": 2.303942,
     "end_time": "2024-09-19T21:20:57.363222",
     "exception": false,
     "start_time": "2024-09-19T21:20:55.059280",
     "status": "completed"
    },
    "tags": []
   },
   "outputs": [
    {
     "data": {
      "text/html": [
       "<div>\n",
       "<style scoped>\n",
       "    .dataframe tbody tr th:only-of-type {\n",
       "        vertical-align: middle;\n",
       "    }\n",
       "\n",
       "    .dataframe tbody tr th {\n",
       "        vertical-align: top;\n",
       "    }\n",
       "\n",
       "    .dataframe thead th {\n",
       "        text-align: right;\n",
       "    }\n",
       "</style>\n",
       "<table border=\"1\" class=\"dataframe\">\n",
       "  <thead>\n",
       "    <tr style=\"text-align: right;\">\n",
       "      <th></th>\n",
       "      <th>Team</th>\n",
       "      <th>Outcome</th>\n",
       "      <th>Task Completed</th>\n",
       "      <th>All Tasks Completed</th>\n",
       "      <th>Murdered</th>\n",
       "      <th>Imposter Kills</th>\n",
       "      <th>Game Length</th>\n",
       "      <th>Ejected</th>\n",
       "      <th>Sabotages Fixed</th>\n",
       "      <th>Time to complete all tasks</th>\n",
       "      <th>Rank Change</th>\n",
       "      <th>user_id</th>\n",
       "      <th>Region</th>\n",
       "      <th>Game_Code</th>\n",
       "      <th>Game date</th>\n",
       "      <th>Game time</th>\n",
       "    </tr>\n",
       "  </thead>\n",
       "  <tbody>\n",
       "    <tr>\n",
       "      <th>0</th>\n",
       "      <td>Crewmate</td>\n",
       "      <td>Loss</td>\n",
       "      <td>2</td>\n",
       "      <td>No</td>\n",
       "      <td>Yes</td>\n",
       "      <td>-</td>\n",
       "      <td>03m 39s</td>\n",
       "      <td>No</td>\n",
       "      <td>0.0</td>\n",
       "      <td>-</td>\n",
       "      <td>NaN</td>\n",
       "      <td>1</td>\n",
       "      <td>NA</td>\n",
       "      <td>JRMRHF</td>\n",
       "      <td>21-01-04</td>\n",
       "      <td>11:41:52</td>\n",
       "    </tr>\n",
       "    <tr>\n",
       "      <th>1</th>\n",
       "      <td>Imposter</td>\n",
       "      <td>Win</td>\n",
       "      <td>-</td>\n",
       "      <td>-</td>\n",
       "      <td>-</td>\n",
       "      <td>1</td>\n",
       "      <td>08m 27s</td>\n",
       "      <td>No</td>\n",
       "      <td>NaN</td>\n",
       "      <td>-</td>\n",
       "      <td>+++</td>\n",
       "      <td>1</td>\n",
       "      <td>NA</td>\n",
       "      <td>JRMRHF</td>\n",
       "      <td>21-01-04</td>\n",
       "      <td>11:37:30</td>\n",
       "    </tr>\n",
       "    <tr>\n",
       "      <th>2</th>\n",
       "      <td>Crewmate</td>\n",
       "      <td>Loss</td>\n",
       "      <td>3</td>\n",
       "      <td>No</td>\n",
       "      <td>No</td>\n",
       "      <td>-</td>\n",
       "      <td>09m 35s</td>\n",
       "      <td>No</td>\n",
       "      <td>0.0</td>\n",
       "      <td>-</td>\n",
       "      <td>---</td>\n",
       "      <td>1</td>\n",
       "      <td>NA</td>\n",
       "      <td>JRMRHF</td>\n",
       "      <td>21-01-04</td>\n",
       "      <td>11:28:21</td>\n",
       "    </tr>\n",
       "    <tr>\n",
       "      <th>3</th>\n",
       "      <td>Crewmate</td>\n",
       "      <td>Win</td>\n",
       "      <td>6</td>\n",
       "      <td>No</td>\n",
       "      <td>No</td>\n",
       "      <td>-</td>\n",
       "      <td>08m 35s</td>\n",
       "      <td>No</td>\n",
       "      <td>0.0</td>\n",
       "      <td>-</td>\n",
       "      <td>++</td>\n",
       "      <td>1</td>\n",
       "      <td>NA</td>\n",
       "      <td>JRMRHF</td>\n",
       "      <td>21-01-04</td>\n",
       "      <td>11:17:55</td>\n",
       "    </tr>\n",
       "    <tr>\n",
       "      <th>4</th>\n",
       "      <td>Crewmate</td>\n",
       "      <td>Loss</td>\n",
       "      <td>10</td>\n",
       "      <td>Yes</td>\n",
       "      <td>Yes</td>\n",
       "      <td>-</td>\n",
       "      <td>19m 51s</td>\n",
       "      <td>No</td>\n",
       "      <td>0.0</td>\n",
       "      <td>12m 58s</td>\n",
       "      <td>--</td>\n",
       "      <td>1</td>\n",
       "      <td>NA</td>\n",
       "      <td>JRMRHF</td>\n",
       "      <td>21-01-04</td>\n",
       "      <td>11:08:40</td>\n",
       "    </tr>\n",
       "  </tbody>\n",
       "</table>\n",
       "</div>"
      ],
      "text/plain": [
       "       Team Outcome Task Completed All Tasks Completed Murdered  \\\n",
       "0  Crewmate    Loss              2                  No      Yes   \n",
       "1  Imposter     Win              -                   -        -   \n",
       "2  Crewmate    Loss              3                  No       No   \n",
       "3  Crewmate     Win              6                  No       No   \n",
       "4  Crewmate    Loss             10                 Yes      Yes   \n",
       "\n",
       "  Imposter Kills Game Length Ejected  Sabotages Fixed  \\\n",
       "0              -     03m 39s      No              0.0   \n",
       "1              1     08m 27s      No              NaN   \n",
       "2              -     09m 35s      No              0.0   \n",
       "3              -     08m 35s      No              0.0   \n",
       "4              -     19m 51s      No              0.0   \n",
       "\n",
       "  Time to complete all tasks Rank Change  user_id Region Game_Code Game date  \\\n",
       "0                          -         NaN        1     NA    JRMRHF  21-01-04   \n",
       "1                          -         +++        1     NA    JRMRHF  21-01-04   \n",
       "2                          -         ---        1     NA    JRMRHF  21-01-04   \n",
       "3                          -          ++        1     NA    JRMRHF  21-01-04   \n",
       "4                    12m 58s          --        1     NA    JRMRHF  21-01-04   \n",
       "\n",
       "  Game time  \n",
       "0  11:41:52  \n",
       "1  11:37:30  \n",
       "2  11:28:21  \n",
       "3  11:17:55  \n",
       "4  11:08:40  "
      ]
     },
     "execution_count": 6,
     "metadata": {},
     "output_type": "execute_result"
    }
   ],
   "source": [
    "# Date format - MM/DD/YYYY\n",
    "df_fetch_datetime = df['Game Completed Date'].str.split(' ', expand = True)\n",
    "\n",
    "date = []\n",
    "time = []\n",
    "for idx, val in enumerate(df_fetch_datetime.iterrows()):\n",
    "    date.append(pd.to_datetime(val[1][0]).strftime('%y-%m-%d'))\n",
    "    time.append(pd.to_datetime(val[1][2]).strftime('%H:%M:%S'))\n",
    "\n",
    "df['Game date'] = date\n",
    "df['Game time'] = time\n",
    "\n",
    "df.drop(columns = 'Game Completed Date', inplace = True)\n",
    "\n",
    "df.head()"
   ]
  },
  {
   "cell_type": "code",
   "execution_count": 7,
   "id": "a39df951",
   "metadata": {
    "_kg_hide-input": true,
    "execution": {
     "iopub.execute_input": "2024-09-19T21:20:57.383602Z",
     "iopub.status.busy": "2024-09-19T21:20:57.383219Z",
     "iopub.status.idle": "2024-09-19T21:20:57.391618Z",
     "shell.execute_reply": "2024-09-19T21:20:57.390581Z"
    },
    "papermill": {
     "duration": 0.021026,
     "end_time": "2024-09-19T21:20:57.393802",
     "exception": false,
     "start_time": "2024-09-19T21:20:57.372776",
     "status": "completed"
    },
    "tags": []
   },
   "outputs": [],
   "source": [
    "df['Imposter Kills'] = df['Imposter Kills'].replace('-', 0).astype('int')\n",
    "df['Task Completed'] = df['Task Completed'].replace('-', 0).astype('int')"
   ]
  },
  {
   "cell_type": "markdown",
   "id": "6d355a7d",
   "metadata": {
    "papermill": {
     "duration": 0.00889,
     "end_time": "2024-09-19T21:20:57.411997",
     "exception": false,
     "start_time": "2024-09-19T21:20:57.403107",
     "status": "completed"
    },
    "tags": []
   },
   "source": [
    "---"
   ]
  },
  {
   "cell_type": "markdown",
   "id": "633a4a06",
   "metadata": {
    "papermill": {
     "duration": 0.008921,
     "end_time": "2024-09-19T21:20:57.430273",
     "exception": false,
     "start_time": "2024-09-19T21:20:57.421352",
     "status": "completed"
    },
    "tags": []
   },
   "source": [
    "<div>\n",
    "    <h1><center>📊 Exploratory Data Analysis</center></h1>\n",
    "</div>   \n",
    "\n",
    "> ## Individual Analysis - Time to complete all tasks vary between successful and failed games 👍🏻👎🏻"
   ]
  },
  {
   "cell_type": "code",
   "execution_count": 8,
   "id": "8ea28fb4",
   "metadata": {
    "_kg_hide-input": true,
    "execution": {
     "iopub.execute_input": "2024-09-19T21:20:57.450343Z",
     "iopub.status.busy": "2024-09-19T21:20:57.449896Z",
     "iopub.status.idle": "2024-09-19T21:20:57.460633Z",
     "shell.execute_reply": "2024-09-19T21:20:57.459753Z"
    },
    "papermill": {
     "duration": 0.023532,
     "end_time": "2024-09-19T21:20:57.462930",
     "exception": false,
     "start_time": "2024-09-19T21:20:57.439398",
     "status": "completed"
    },
    "tags": []
   },
   "outputs": [],
   "source": [
    "def user_task_completion(user_id : int) -> None:\n",
    "    user_data = df.copy()[df['user_id'] == user_id]\n",
    "    first_match_id = user_data.index.min()\n",
    "    \n",
    "    user_data = user_data[user_data['All Tasks Completed'] == 'Yes']\n",
    "    user_data.index += 1\n",
    "    \n",
    "    # Preprocessing TTCAT\n",
    "    temp = \"00:\" + user_data['Time to complete all tasks'].str.replace(r'(\\d+)m\\s*(\\d+)s?', r'\\1:\\2', regex=True).str.replace(' ', '')\n",
    "    all_task_completion_time = []\n",
    "    for mins in temp:\n",
    "        all_task_completion_time.append(pd.to_timedelta(mins).total_seconds() / 60)\n",
    "    user_data['Time to complete all tasks'] = all_task_completion_time\n",
    "    \n",
    "    # Win Games\n",
    "    user_win = user_data[user_data['Outcome'] == 'Win']\n",
    "    # Lost Games\n",
    "    user_lost = user_data[user_data['Outcome'] == 'Loss']\n",
    "    \n",
    "    # Plotting\n",
    "    fig = go.Figure()\n",
    "    # User Win\n",
    "    fig.add_trace(go.Scatter(\n",
    "        x = user_win.index - first_match_id,\n",
    "        y = user_win['Time to complete all tasks'],\n",
    "        mode = 'markers+lines',\n",
    "        marker = dict(size = 12),\n",
    "        name = 'User Win'\n",
    "    ))\n",
    "    \n",
    "    # User Lost\n",
    "    fig.add_trace(go.Scatter(\n",
    "        x = user_lost.index - first_match_id,\n",
    "        y = user_lost['Time to complete all tasks'],\n",
    "        mode = 'markers+lines',\n",
    "        marker = dict(size = 12),\n",
    "        name = 'User Lost'\n",
    "    ))\n",
    "    fig.update_layout(\n",
    "            title=f\"Player - {user_id} : Time to complete all tasks vary between successful and failed games 👍🏻👎🏻\",\n",
    "            title_x = 0.5,\n",
    "            xaxis=dict(title=\"Game Number\", tickvals=np.arange(1, 101), ),\n",
    "            yaxis=dict(title=\"Time To Complete All Tasks (MIN)\"),\n",
    "            legend=dict(title=\"Game Outcome\"),\n",
    "            template=\"plotly_white\",height=600,width=1050)\n",
    "    fig.show()"
   ]
  },
  {
   "cell_type": "markdown",
   "id": "89439e28",
   "metadata": {
    "papermill": {
     "duration": 0.009045,
     "end_time": "2024-09-19T21:20:57.481801",
     "exception": false,
     "start_time": "2024-09-19T21:20:57.472756",
     "status": "completed"
    },
    "tags": []
   },
   "source": [
    "> 📌 Note : Pass the `Player ID` to a function to analyze."
   ]
  },
  {
   "cell_type": "code",
   "execution_count": 9,
   "id": "b527ca7c",
   "metadata": {
    "_kg_hide-input": true,
    "execution": {
     "iopub.execute_input": "2024-09-19T21:20:57.503178Z",
     "iopub.status.busy": "2024-09-19T21:20:57.502745Z",
     "iopub.status.idle": "2024-09-19T21:20:59.091976Z",
     "shell.execute_reply": "2024-09-19T21:20:59.090963Z"
    },
    "papermill": {
     "duration": 1.602261,
     "end_time": "2024-09-19T21:20:59.094265",
     "exception": false,
     "start_time": "2024-09-19T21:20:57.492004",
     "status": "completed"
    },
    "tags": []
   },
   "outputs": [
    {
     "data": {
      "text/html": [
       "        <script type=\"text/javascript\">\n",
       "        window.PlotlyConfig = {MathJaxConfig: 'local'};\n",
       "        if (window.MathJax && window.MathJax.Hub && window.MathJax.Hub.Config) {window.MathJax.Hub.Config({SVG: {font: \"STIX-Web\"}});}\n",
       "        if (typeof require !== 'undefined') {\n",
       "        require.undef(\"plotly\");\n",
       "        requirejs.config({\n",
       "            paths: {\n",
       "                'plotly': ['https://cdn.plot.ly/plotly-2.32.0.min']\n",
       "            }\n",
       "        });\n",
       "        require(['plotly'], function(Plotly) {\n",
       "            window._Plotly = Plotly;\n",
       "        });\n",
       "        }\n",
       "        </script>\n",
       "        "
      ]
     },
     "metadata": {},
     "output_type": "display_data"
    },
    {
     "data": {
      "text/html": [
       "<div>                            <div id=\"211f2c8f-93dc-4af3-b164-82641bc6104e\" class=\"plotly-graph-div\" style=\"height:600px; width:1050px;\"></div>            <script type=\"text/javascript\">                require([\"plotly\"], function(Plotly) {                    window.PLOTLYENV=window.PLOTLYENV || {};                                    if (document.getElementById(\"211f2c8f-93dc-4af3-b164-82641bc6104e\")) {                    Plotly.newPlot(                        \"211f2c8f-93dc-4af3-b164-82641bc6104e\",                        [{\"marker\":{\"size\":12},\"mode\":\"markers+lines\",\"name\":\"User Win\",\"x\":[5,7,20,23,27,31,32,38,42,43,46,54,57,60,62,63,66,74,88,91,95],\"y\":[11.7,11.116666666666667,8.916666666666666,8.0,9.3,7.75,11.45,7.383333333333334,11.733333333333333,4.733333333333333,10.9,5.866666666666666,5.65,8.183333333333334,14.85,12.383333333333333,4.383333333333334,5.65,11.266666666666667,4.333333333333333,2.8333333333333335],\"type\":\"scatter\"},{\"marker\":{\"size\":12},\"mode\":\"markers+lines\",\"name\":\"User Lost\",\"x\":[2,9,13,30,34,36,40,41,56,59,64,76,90,94,96,100],\"y\":[5.9,8.1,7.566666666666666,9.25,8.55,5.933333333333334,6.883333333333334,6.8,8.566666666666666,8.75,12.316666666666666,7.666666666666667,10.5,12.166666666666666,5.183333333333334,8.65],\"type\":\"scatter\"}],                        {\"template\":{\"data\":{\"barpolar\":[{\"marker\":{\"line\":{\"color\":\"white\",\"width\":0.5},\"pattern\":{\"fillmode\":\"overlay\",\"size\":10,\"solidity\":0.2}},\"type\":\"barpolar\"}],\"bar\":[{\"error_x\":{\"color\":\"#2a3f5f\"},\"error_y\":{\"color\":\"#2a3f5f\"},\"marker\":{\"line\":{\"color\":\"white\",\"width\":0.5},\"pattern\":{\"fillmode\":\"overlay\",\"size\":10,\"solidity\":0.2}},\"type\":\"bar\"}],\"carpet\":[{\"aaxis\":{\"endlinecolor\":\"#2a3f5f\",\"gridcolor\":\"#C8D4E3\",\"linecolor\":\"#C8D4E3\",\"minorgridcolor\":\"#C8D4E3\",\"startlinecolor\":\"#2a3f5f\"},\"baxis\":{\"endlinecolor\":\"#2a3f5f\",\"gridcolor\":\"#C8D4E3\",\"linecolor\":\"#C8D4E3\",\"minorgridcolor\":\"#C8D4E3\",\"startlinecolor\":\"#2a3f5f\"},\"type\":\"carpet\"}],\"choropleth\":[{\"colorbar\":{\"outlinewidth\":0,\"ticks\":\"\"},\"type\":\"choropleth\"}],\"contourcarpet\":[{\"colorbar\":{\"outlinewidth\":0,\"ticks\":\"\"},\"type\":\"contourcarpet\"}],\"contour\":[{\"colorbar\":{\"outlinewidth\":0,\"ticks\":\"\"},\"colorscale\":[[0.0,\"#0d0887\"],[0.1111111111111111,\"#46039f\"],[0.2222222222222222,\"#7201a8\"],[0.3333333333333333,\"#9c179e\"],[0.4444444444444444,\"#bd3786\"],[0.5555555555555556,\"#d8576b\"],[0.6666666666666666,\"#ed7953\"],[0.7777777777777778,\"#fb9f3a\"],[0.8888888888888888,\"#fdca26\"],[1.0,\"#f0f921\"]],\"type\":\"contour\"}],\"heatmapgl\":[{\"colorbar\":{\"outlinewidth\":0,\"ticks\":\"\"},\"colorscale\":[[0.0,\"#0d0887\"],[0.1111111111111111,\"#46039f\"],[0.2222222222222222,\"#7201a8\"],[0.3333333333333333,\"#9c179e\"],[0.4444444444444444,\"#bd3786\"],[0.5555555555555556,\"#d8576b\"],[0.6666666666666666,\"#ed7953\"],[0.7777777777777778,\"#fb9f3a\"],[0.8888888888888888,\"#fdca26\"],[1.0,\"#f0f921\"]],\"type\":\"heatmapgl\"}],\"heatmap\":[{\"colorbar\":{\"outlinewidth\":0,\"ticks\":\"\"},\"colorscale\":[[0.0,\"#0d0887\"],[0.1111111111111111,\"#46039f\"],[0.2222222222222222,\"#7201a8\"],[0.3333333333333333,\"#9c179e\"],[0.4444444444444444,\"#bd3786\"],[0.5555555555555556,\"#d8576b\"],[0.6666666666666666,\"#ed7953\"],[0.7777777777777778,\"#fb9f3a\"],[0.8888888888888888,\"#fdca26\"],[1.0,\"#f0f921\"]],\"type\":\"heatmap\"}],\"histogram2dcontour\":[{\"colorbar\":{\"outlinewidth\":0,\"ticks\":\"\"},\"colorscale\":[[0.0,\"#0d0887\"],[0.1111111111111111,\"#46039f\"],[0.2222222222222222,\"#7201a8\"],[0.3333333333333333,\"#9c179e\"],[0.4444444444444444,\"#bd3786\"],[0.5555555555555556,\"#d8576b\"],[0.6666666666666666,\"#ed7953\"],[0.7777777777777778,\"#fb9f3a\"],[0.8888888888888888,\"#fdca26\"],[1.0,\"#f0f921\"]],\"type\":\"histogram2dcontour\"}],\"histogram2d\":[{\"colorbar\":{\"outlinewidth\":0,\"ticks\":\"\"},\"colorscale\":[[0.0,\"#0d0887\"],[0.1111111111111111,\"#46039f\"],[0.2222222222222222,\"#7201a8\"],[0.3333333333333333,\"#9c179e\"],[0.4444444444444444,\"#bd3786\"],[0.5555555555555556,\"#d8576b\"],[0.6666666666666666,\"#ed7953\"],[0.7777777777777778,\"#fb9f3a\"],[0.8888888888888888,\"#fdca26\"],[1.0,\"#f0f921\"]],\"type\":\"histogram2d\"}],\"histogram\":[{\"marker\":{\"pattern\":{\"fillmode\":\"overlay\",\"size\":10,\"solidity\":0.2}},\"type\":\"histogram\"}],\"mesh3d\":[{\"colorbar\":{\"outlinewidth\":0,\"ticks\":\"\"},\"type\":\"mesh3d\"}],\"parcoords\":[{\"line\":{\"colorbar\":{\"outlinewidth\":0,\"ticks\":\"\"}},\"type\":\"parcoords\"}],\"pie\":[{\"automargin\":true,\"type\":\"pie\"}],\"scatter3d\":[{\"line\":{\"colorbar\":{\"outlinewidth\":0,\"ticks\":\"\"}},\"marker\":{\"colorbar\":{\"outlinewidth\":0,\"ticks\":\"\"}},\"type\":\"scatter3d\"}],\"scattercarpet\":[{\"marker\":{\"colorbar\":{\"outlinewidth\":0,\"ticks\":\"\"}},\"type\":\"scattercarpet\"}],\"scattergeo\":[{\"marker\":{\"colorbar\":{\"outlinewidth\":0,\"ticks\":\"\"}},\"type\":\"scattergeo\"}],\"scattergl\":[{\"marker\":{\"colorbar\":{\"outlinewidth\":0,\"ticks\":\"\"}},\"type\":\"scattergl\"}],\"scattermapbox\":[{\"marker\":{\"colorbar\":{\"outlinewidth\":0,\"ticks\":\"\"}},\"type\":\"scattermapbox\"}],\"scatterpolargl\":[{\"marker\":{\"colorbar\":{\"outlinewidth\":0,\"ticks\":\"\"}},\"type\":\"scatterpolargl\"}],\"scatterpolar\":[{\"marker\":{\"colorbar\":{\"outlinewidth\":0,\"ticks\":\"\"}},\"type\":\"scatterpolar\"}],\"scatter\":[{\"fillpattern\":{\"fillmode\":\"overlay\",\"size\":10,\"solidity\":0.2},\"type\":\"scatter\"}],\"scatterternary\":[{\"marker\":{\"colorbar\":{\"outlinewidth\":0,\"ticks\":\"\"}},\"type\":\"scatterternary\"}],\"surface\":[{\"colorbar\":{\"outlinewidth\":0,\"ticks\":\"\"},\"colorscale\":[[0.0,\"#0d0887\"],[0.1111111111111111,\"#46039f\"],[0.2222222222222222,\"#7201a8\"],[0.3333333333333333,\"#9c179e\"],[0.4444444444444444,\"#bd3786\"],[0.5555555555555556,\"#d8576b\"],[0.6666666666666666,\"#ed7953\"],[0.7777777777777778,\"#fb9f3a\"],[0.8888888888888888,\"#fdca26\"],[1.0,\"#f0f921\"]],\"type\":\"surface\"}],\"table\":[{\"cells\":{\"fill\":{\"color\":\"#EBF0F8\"},\"line\":{\"color\":\"white\"}},\"header\":{\"fill\":{\"color\":\"#C8D4E3\"},\"line\":{\"color\":\"white\"}},\"type\":\"table\"}]},\"layout\":{\"annotationdefaults\":{\"arrowcolor\":\"#2a3f5f\",\"arrowhead\":0,\"arrowwidth\":1},\"autotypenumbers\":\"strict\",\"coloraxis\":{\"colorbar\":{\"outlinewidth\":0,\"ticks\":\"\"}},\"colorscale\":{\"diverging\":[[0,\"#8e0152\"],[0.1,\"#c51b7d\"],[0.2,\"#de77ae\"],[0.3,\"#f1b6da\"],[0.4,\"#fde0ef\"],[0.5,\"#f7f7f7\"],[0.6,\"#e6f5d0\"],[0.7,\"#b8e186\"],[0.8,\"#7fbc41\"],[0.9,\"#4d9221\"],[1,\"#276419\"]],\"sequential\":[[0.0,\"#0d0887\"],[0.1111111111111111,\"#46039f\"],[0.2222222222222222,\"#7201a8\"],[0.3333333333333333,\"#9c179e\"],[0.4444444444444444,\"#bd3786\"],[0.5555555555555556,\"#d8576b\"],[0.6666666666666666,\"#ed7953\"],[0.7777777777777778,\"#fb9f3a\"],[0.8888888888888888,\"#fdca26\"],[1.0,\"#f0f921\"]],\"sequentialminus\":[[0.0,\"#0d0887\"],[0.1111111111111111,\"#46039f\"],[0.2222222222222222,\"#7201a8\"],[0.3333333333333333,\"#9c179e\"],[0.4444444444444444,\"#bd3786\"],[0.5555555555555556,\"#d8576b\"],[0.6666666666666666,\"#ed7953\"],[0.7777777777777778,\"#fb9f3a\"],[0.8888888888888888,\"#fdca26\"],[1.0,\"#f0f921\"]]},\"colorway\":[\"#636efa\",\"#EF553B\",\"#00cc96\",\"#ab63fa\",\"#FFA15A\",\"#19d3f3\",\"#FF6692\",\"#B6E880\",\"#FF97FF\",\"#FECB52\"],\"font\":{\"color\":\"#2a3f5f\"},\"geo\":{\"bgcolor\":\"white\",\"lakecolor\":\"white\",\"landcolor\":\"white\",\"showlakes\":true,\"showland\":true,\"subunitcolor\":\"#C8D4E3\"},\"hoverlabel\":{\"align\":\"left\"},\"hovermode\":\"closest\",\"mapbox\":{\"style\":\"light\"},\"paper_bgcolor\":\"white\",\"plot_bgcolor\":\"white\",\"polar\":{\"angularaxis\":{\"gridcolor\":\"#EBF0F8\",\"linecolor\":\"#EBF0F8\",\"ticks\":\"\"},\"bgcolor\":\"white\",\"radialaxis\":{\"gridcolor\":\"#EBF0F8\",\"linecolor\":\"#EBF0F8\",\"ticks\":\"\"}},\"scene\":{\"xaxis\":{\"backgroundcolor\":\"white\",\"gridcolor\":\"#DFE8F3\",\"gridwidth\":2,\"linecolor\":\"#EBF0F8\",\"showbackground\":true,\"ticks\":\"\",\"zerolinecolor\":\"#EBF0F8\"},\"yaxis\":{\"backgroundcolor\":\"white\",\"gridcolor\":\"#DFE8F3\",\"gridwidth\":2,\"linecolor\":\"#EBF0F8\",\"showbackground\":true,\"ticks\":\"\",\"zerolinecolor\":\"#EBF0F8\"},\"zaxis\":{\"backgroundcolor\":\"white\",\"gridcolor\":\"#DFE8F3\",\"gridwidth\":2,\"linecolor\":\"#EBF0F8\",\"showbackground\":true,\"ticks\":\"\",\"zerolinecolor\":\"#EBF0F8\"}},\"shapedefaults\":{\"line\":{\"color\":\"#2a3f5f\"}},\"ternary\":{\"aaxis\":{\"gridcolor\":\"#DFE8F3\",\"linecolor\":\"#A2B1C6\",\"ticks\":\"\"},\"baxis\":{\"gridcolor\":\"#DFE8F3\",\"linecolor\":\"#A2B1C6\",\"ticks\":\"\"},\"bgcolor\":\"white\",\"caxis\":{\"gridcolor\":\"#DFE8F3\",\"linecolor\":\"#A2B1C6\",\"ticks\":\"\"}},\"title\":{\"x\":0.05},\"xaxis\":{\"automargin\":true,\"gridcolor\":\"#EBF0F8\",\"linecolor\":\"#EBF0F8\",\"ticks\":\"\",\"title\":{\"standoff\":15},\"zerolinecolor\":\"#EBF0F8\",\"zerolinewidth\":2},\"yaxis\":{\"automargin\":true,\"gridcolor\":\"#EBF0F8\",\"linecolor\":\"#EBF0F8\",\"ticks\":\"\",\"title\":{\"standoff\":15},\"zerolinecolor\":\"#EBF0F8\",\"zerolinewidth\":2}}},\"title\":{\"text\":\"Player - 6 : Time to complete all tasks vary between successful and failed games 👍🏻👎🏻\",\"x\":0.5},\"xaxis\":{\"title\":{\"text\":\"Game Number\"},\"tickvals\":[1,2,3,4,5,6,7,8,9,10,11,12,13,14,15,16,17,18,19,20,21,22,23,24,25,26,27,28,29,30,31,32,33,34,35,36,37,38,39,40,41,42,43,44,45,46,47,48,49,50,51,52,53,54,55,56,57,58,59,60,61,62,63,64,65,66,67,68,69,70,71,72,73,74,75,76,77,78,79,80,81,82,83,84,85,86,87,88,89,90,91,92,93,94,95,96,97,98,99,100]},\"yaxis\":{\"title\":{\"text\":\"Time To Complete All Tasks (MIN)\"}},\"legend\":{\"title\":{\"text\":\"Game Outcome\"}},\"height\":600,\"width\":1050},                        {\"responsive\": true}                    ).then(function(){\n",
       "                            \n",
       "var gd = document.getElementById('211f2c8f-93dc-4af3-b164-82641bc6104e');\n",
       "var x = new MutationObserver(function (mutations, observer) {{\n",
       "        var display = window.getComputedStyle(gd).display;\n",
       "        if (!display || display === 'none') {{\n",
       "            console.log([gd, 'removed!']);\n",
       "            Plotly.purge(gd);\n",
       "            observer.disconnect();\n",
       "        }}\n",
       "}});\n",
       "\n",
       "// Listen for the removal of the full notebook cells\n",
       "var notebookContainer = gd.closest('#notebook-container');\n",
       "if (notebookContainer) {{\n",
       "    x.observe(notebookContainer, {childList: true});\n",
       "}}\n",
       "\n",
       "// Listen for the clearing of the current output cell\n",
       "var outputEl = gd.closest('.output');\n",
       "if (outputEl) {{\n",
       "    x.observe(outputEl, {childList: true});\n",
       "}}\n",
       "\n",
       "                        })                };                });            </script>        </div>"
      ]
     },
     "metadata": {},
     "output_type": "display_data"
    }
   ],
   "source": [
    "user_task_completion(6)"
   ]
  },
  {
   "cell_type": "markdown",
   "id": "216fe70d",
   "metadata": {
    "papermill": {
     "duration": 0.010091,
     "end_time": "2024-09-19T21:20:59.114560",
     "exception": false,
     "start_time": "2024-09-19T21:20:59.104469",
     "status": "completed"
    },
    "tags": []
   },
   "source": [
    "---"
   ]
  },
  {
   "cell_type": "markdown",
   "id": "f91b752a",
   "metadata": {
    "papermill": {
     "duration": 0.010092,
     "end_time": "2024-09-19T21:20:59.134819",
     "exception": false,
     "start_time": "2024-09-19T21:20:59.124727",
     "status": "completed"
    },
    "tags": []
   },
   "source": [
    "> ## Crewmate: Accelerated Task Completion for Victory 🏆 | Imposter: The Ultimate Killing Machine 🔪"
   ]
  },
  {
   "cell_type": "code",
   "execution_count": 10,
   "id": "54234f07",
   "metadata": {
    "_kg_hide-input": true,
    "execution": {
     "iopub.execute_input": "2024-09-19T21:20:59.158292Z",
     "iopub.status.busy": "2024-09-19T21:20:59.157108Z",
     "iopub.status.idle": "2024-09-19T21:20:59.380572Z",
     "shell.execute_reply": "2024-09-19T21:20:59.379317Z"
    },
    "papermill": {
     "duration": 0.237347,
     "end_time": "2024-09-19T21:20:59.382809",
     "exception": false,
     "start_time": "2024-09-19T21:20:59.145462",
     "status": "completed"
    },
    "tags": []
   },
   "outputs": [
    {
     "data": {
      "text/html": [
       "<div>                            <div id=\"f107e57c-4094-47d2-ab68-02e4801132e6\" class=\"plotly-graph-div\" style=\"height:600px; width:1050px;\"></div>            <script type=\"text/javascript\">                require([\"plotly\"], function(Plotly) {                    window.PLOTLYENV=window.PLOTLYENV || {};                                    if (document.getElementById(\"f107e57c-4094-47d2-ab68-02e4801132e6\")) {                    Plotly.newPlot(                        \"f107e57c-4094-47d2-ab68-02e4801132e6\",                        [{\"labels\":[1,2,3,4,5,6,7,8,9,10,11,12,13,14,15,16,17,18,19,20,21,22,23,24,25,26,27,28,29],\"name\":\"All Task completed - Wining Count\",\"pull\":[0.0,0.0,0.0,0.0,0.0,0.0,0.0,0.3,0.0,0.0,0.0,0.0,0.0,0.0,0.0,0.0,0.0,0.0,0.0,0.0,0.0,0.0,0.0,0.0,0.0,0.0,0.0,0.0,0.0],\"values\":[7,19,23,24,11,21,5,41,25,16,10,11,13,18,2,19,11,13,5,14,29,7,20,23,14,28,11,10,14],\"type\":\"pie\",\"domain\":{\"x\":[0.0,0.45],\"y\":[0.0,1.0]},\"hole\":0.4,\"textposition\":\"inside\"},{\"labels\":[1,2,3,4,5,6,7,8,9,10,11,12,13,14,15,16,17,18,19,20,21,22,23,24,25,26,27,28,29],\"name\":\"Imposter Kills\",\"pull\":[0.0,0.0,0.0,0.0,0.0,0.0,0.0,0.0,0.0,0.0,0.0,0.3,0.0,0.0,0.0,0.0,0.0,0.0,0.0,0.0,0.0,0.0,0.0,0.0,0.0,0.0,0.0,0.0,0.0],\"values\":[14,29,48,39,55,42,19,46,51,12,23,72,19,42,24,33,44,50,22,39,49,7,61,51,10,45,24,34,12],\"type\":\"pie\",\"domain\":{\"x\":[0.55,1.0],\"y\":[0.0,1.0]},\"hole\":0.4,\"textposition\":\"inside\"}],                        {\"template\":{\"data\":{\"histogram2dcontour\":[{\"type\":\"histogram2dcontour\",\"colorbar\":{\"outlinewidth\":0,\"ticks\":\"\"},\"colorscale\":[[0.0,\"#0d0887\"],[0.1111111111111111,\"#46039f\"],[0.2222222222222222,\"#7201a8\"],[0.3333333333333333,\"#9c179e\"],[0.4444444444444444,\"#bd3786\"],[0.5555555555555556,\"#d8576b\"],[0.6666666666666666,\"#ed7953\"],[0.7777777777777778,\"#fb9f3a\"],[0.8888888888888888,\"#fdca26\"],[1.0,\"#f0f921\"]]}],\"choropleth\":[{\"type\":\"choropleth\",\"colorbar\":{\"outlinewidth\":0,\"ticks\":\"\"}}],\"histogram2d\":[{\"type\":\"histogram2d\",\"colorbar\":{\"outlinewidth\":0,\"ticks\":\"\"},\"colorscale\":[[0.0,\"#0d0887\"],[0.1111111111111111,\"#46039f\"],[0.2222222222222222,\"#7201a8\"],[0.3333333333333333,\"#9c179e\"],[0.4444444444444444,\"#bd3786\"],[0.5555555555555556,\"#d8576b\"],[0.6666666666666666,\"#ed7953\"],[0.7777777777777778,\"#fb9f3a\"],[0.8888888888888888,\"#fdca26\"],[1.0,\"#f0f921\"]]}],\"heatmap\":[{\"type\":\"heatmap\",\"colorbar\":{\"outlinewidth\":0,\"ticks\":\"\"},\"colorscale\":[[0.0,\"#0d0887\"],[0.1111111111111111,\"#46039f\"],[0.2222222222222222,\"#7201a8\"],[0.3333333333333333,\"#9c179e\"],[0.4444444444444444,\"#bd3786\"],[0.5555555555555556,\"#d8576b\"],[0.6666666666666666,\"#ed7953\"],[0.7777777777777778,\"#fb9f3a\"],[0.8888888888888888,\"#fdca26\"],[1.0,\"#f0f921\"]]}],\"heatmapgl\":[{\"type\":\"heatmapgl\",\"colorbar\":{\"outlinewidth\":0,\"ticks\":\"\"},\"colorscale\":[[0.0,\"#0d0887\"],[0.1111111111111111,\"#46039f\"],[0.2222222222222222,\"#7201a8\"],[0.3333333333333333,\"#9c179e\"],[0.4444444444444444,\"#bd3786\"],[0.5555555555555556,\"#d8576b\"],[0.6666666666666666,\"#ed7953\"],[0.7777777777777778,\"#fb9f3a\"],[0.8888888888888888,\"#fdca26\"],[1.0,\"#f0f921\"]]}],\"contourcarpet\":[{\"type\":\"contourcarpet\",\"colorbar\":{\"outlinewidth\":0,\"ticks\":\"\"}}],\"contour\":[{\"type\":\"contour\",\"colorbar\":{\"outlinewidth\":0,\"ticks\":\"\"},\"colorscale\":[[0.0,\"#0d0887\"],[0.1111111111111111,\"#46039f\"],[0.2222222222222222,\"#7201a8\"],[0.3333333333333333,\"#9c179e\"],[0.4444444444444444,\"#bd3786\"],[0.5555555555555556,\"#d8576b\"],[0.6666666666666666,\"#ed7953\"],[0.7777777777777778,\"#fb9f3a\"],[0.8888888888888888,\"#fdca26\"],[1.0,\"#f0f921\"]]}],\"surface\":[{\"type\":\"surface\",\"colorbar\":{\"outlinewidth\":0,\"ticks\":\"\"},\"colorscale\":[[0.0,\"#0d0887\"],[0.1111111111111111,\"#46039f\"],[0.2222222222222222,\"#7201a8\"],[0.3333333333333333,\"#9c179e\"],[0.4444444444444444,\"#bd3786\"],[0.5555555555555556,\"#d8576b\"],[0.6666666666666666,\"#ed7953\"],[0.7777777777777778,\"#fb9f3a\"],[0.8888888888888888,\"#fdca26\"],[1.0,\"#f0f921\"]]}],\"mesh3d\":[{\"type\":\"mesh3d\",\"colorbar\":{\"outlinewidth\":0,\"ticks\":\"\"}}],\"scatter\":[{\"fillpattern\":{\"fillmode\":\"overlay\",\"size\":10,\"solidity\":0.2},\"type\":\"scatter\"}],\"parcoords\":[{\"type\":\"parcoords\",\"line\":{\"colorbar\":{\"outlinewidth\":0,\"ticks\":\"\"}}}],\"scatterpolargl\":[{\"type\":\"scatterpolargl\",\"marker\":{\"colorbar\":{\"outlinewidth\":0,\"ticks\":\"\"}}}],\"bar\":[{\"error_x\":{\"color\":\"#2a3f5f\"},\"error_y\":{\"color\":\"#2a3f5f\"},\"marker\":{\"line\":{\"color\":\"#E5ECF6\",\"width\":0.5},\"pattern\":{\"fillmode\":\"overlay\",\"size\":10,\"solidity\":0.2}},\"type\":\"bar\"}],\"scattergeo\":[{\"type\":\"scattergeo\",\"marker\":{\"colorbar\":{\"outlinewidth\":0,\"ticks\":\"\"}}}],\"scatterpolar\":[{\"type\":\"scatterpolar\",\"marker\":{\"colorbar\":{\"outlinewidth\":0,\"ticks\":\"\"}}}],\"histogram\":[{\"marker\":{\"pattern\":{\"fillmode\":\"overlay\",\"size\":10,\"solidity\":0.2}},\"type\":\"histogram\"}],\"scattergl\":[{\"type\":\"scattergl\",\"marker\":{\"colorbar\":{\"outlinewidth\":0,\"ticks\":\"\"}}}],\"scatter3d\":[{\"type\":\"scatter3d\",\"line\":{\"colorbar\":{\"outlinewidth\":0,\"ticks\":\"\"}},\"marker\":{\"colorbar\":{\"outlinewidth\":0,\"ticks\":\"\"}}}],\"scattermapbox\":[{\"type\":\"scattermapbox\",\"marker\":{\"colorbar\":{\"outlinewidth\":0,\"ticks\":\"\"}}}],\"scatterternary\":[{\"type\":\"scatterternary\",\"marker\":{\"colorbar\":{\"outlinewidth\":0,\"ticks\":\"\"}}}],\"scattercarpet\":[{\"type\":\"scattercarpet\",\"marker\":{\"colorbar\":{\"outlinewidth\":0,\"ticks\":\"\"}}}],\"carpet\":[{\"aaxis\":{\"endlinecolor\":\"#2a3f5f\",\"gridcolor\":\"white\",\"linecolor\":\"white\",\"minorgridcolor\":\"white\",\"startlinecolor\":\"#2a3f5f\"},\"baxis\":{\"endlinecolor\":\"#2a3f5f\",\"gridcolor\":\"white\",\"linecolor\":\"white\",\"minorgridcolor\":\"white\",\"startlinecolor\":\"#2a3f5f\"},\"type\":\"carpet\"}],\"table\":[{\"cells\":{\"fill\":{\"color\":\"#EBF0F8\"},\"line\":{\"color\":\"white\"}},\"header\":{\"fill\":{\"color\":\"#C8D4E3\"},\"line\":{\"color\":\"white\"}},\"type\":\"table\"}],\"barpolar\":[{\"marker\":{\"line\":{\"color\":\"#E5ECF6\",\"width\":0.5},\"pattern\":{\"fillmode\":\"overlay\",\"size\":10,\"solidity\":0.2}},\"type\":\"barpolar\"}],\"pie\":[{\"automargin\":true,\"type\":\"pie\"}]},\"layout\":{\"autotypenumbers\":\"strict\",\"colorway\":[\"#636efa\",\"#EF553B\",\"#00cc96\",\"#ab63fa\",\"#FFA15A\",\"#19d3f3\",\"#FF6692\",\"#B6E880\",\"#FF97FF\",\"#FECB52\"],\"font\":{\"color\":\"#2a3f5f\"},\"hovermode\":\"closest\",\"hoverlabel\":{\"align\":\"left\"},\"paper_bgcolor\":\"white\",\"plot_bgcolor\":\"#E5ECF6\",\"polar\":{\"bgcolor\":\"#E5ECF6\",\"angularaxis\":{\"gridcolor\":\"white\",\"linecolor\":\"white\",\"ticks\":\"\"},\"radialaxis\":{\"gridcolor\":\"white\",\"linecolor\":\"white\",\"ticks\":\"\"}},\"ternary\":{\"bgcolor\":\"#E5ECF6\",\"aaxis\":{\"gridcolor\":\"white\",\"linecolor\":\"white\",\"ticks\":\"\"},\"baxis\":{\"gridcolor\":\"white\",\"linecolor\":\"white\",\"ticks\":\"\"},\"caxis\":{\"gridcolor\":\"white\",\"linecolor\":\"white\",\"ticks\":\"\"}},\"coloraxis\":{\"colorbar\":{\"outlinewidth\":0,\"ticks\":\"\"}},\"colorscale\":{\"sequential\":[[0.0,\"#0d0887\"],[0.1111111111111111,\"#46039f\"],[0.2222222222222222,\"#7201a8\"],[0.3333333333333333,\"#9c179e\"],[0.4444444444444444,\"#bd3786\"],[0.5555555555555556,\"#d8576b\"],[0.6666666666666666,\"#ed7953\"],[0.7777777777777778,\"#fb9f3a\"],[0.8888888888888888,\"#fdca26\"],[1.0,\"#f0f921\"]],\"sequentialminus\":[[0.0,\"#0d0887\"],[0.1111111111111111,\"#46039f\"],[0.2222222222222222,\"#7201a8\"],[0.3333333333333333,\"#9c179e\"],[0.4444444444444444,\"#bd3786\"],[0.5555555555555556,\"#d8576b\"],[0.6666666666666666,\"#ed7953\"],[0.7777777777777778,\"#fb9f3a\"],[0.8888888888888888,\"#fdca26\"],[1.0,\"#f0f921\"]],\"diverging\":[[0,\"#8e0152\"],[0.1,\"#c51b7d\"],[0.2,\"#de77ae\"],[0.3,\"#f1b6da\"],[0.4,\"#fde0ef\"],[0.5,\"#f7f7f7\"],[0.6,\"#e6f5d0\"],[0.7,\"#b8e186\"],[0.8,\"#7fbc41\"],[0.9,\"#4d9221\"],[1,\"#276419\"]]},\"xaxis\":{\"gridcolor\":\"white\",\"linecolor\":\"white\",\"ticks\":\"\",\"title\":{\"standoff\":15},\"zerolinecolor\":\"white\",\"automargin\":true,\"zerolinewidth\":2},\"yaxis\":{\"gridcolor\":\"white\",\"linecolor\":\"white\",\"ticks\":\"\",\"title\":{\"standoff\":15},\"zerolinecolor\":\"white\",\"automargin\":true,\"zerolinewidth\":2},\"scene\":{\"xaxis\":{\"backgroundcolor\":\"#E5ECF6\",\"gridcolor\":\"white\",\"linecolor\":\"white\",\"showbackground\":true,\"ticks\":\"\",\"zerolinecolor\":\"white\",\"gridwidth\":2},\"yaxis\":{\"backgroundcolor\":\"#E5ECF6\",\"gridcolor\":\"white\",\"linecolor\":\"white\",\"showbackground\":true,\"ticks\":\"\",\"zerolinecolor\":\"white\",\"gridwidth\":2},\"zaxis\":{\"backgroundcolor\":\"#E5ECF6\",\"gridcolor\":\"white\",\"linecolor\":\"white\",\"showbackground\":true,\"ticks\":\"\",\"zerolinecolor\":\"white\",\"gridwidth\":2}},\"shapedefaults\":{\"line\":{\"color\":\"#2a3f5f\"}},\"annotationdefaults\":{\"arrowcolor\":\"#2a3f5f\",\"arrowhead\":0,\"arrowwidth\":1},\"geo\":{\"bgcolor\":\"white\",\"landcolor\":\"#E5ECF6\",\"subunitcolor\":\"white\",\"showland\":true,\"showlakes\":true,\"lakecolor\":\"white\"},\"title\":{\"x\":0.05},\"mapbox\":{\"style\":\"light\"}}},\"title\":{\"text\":\"Crewmate: Accelerated Task Completion for Victory 🏆 | Imposter: The Ultimate Killing Machine 🔪\",\"x\":0.5},\"height\":600,\"width\":1050,\"annotations\":[{\"showarrow\":false,\"text\":\"Pro Crewmate\",\"x\":0.225,\"xanchor\":\"center\",\"y\":0.5,\"font\":{\"size\":14}},{\"showarrow\":false,\"text\":\"Pro Imposter\",\"x\":0.775,\"xanchor\":\"center\",\"y\":0.5,\"font\":{\"size\":14}}]},                        {\"responsive\": true}                    ).then(function(){\n",
       "                            \n",
       "var gd = document.getElementById('f107e57c-4094-47d2-ab68-02e4801132e6');\n",
       "var x = new MutationObserver(function (mutations, observer) {{\n",
       "        var display = window.getComputedStyle(gd).display;\n",
       "        if (!display || display === 'none') {{\n",
       "            console.log([gd, 'removed!']);\n",
       "            Plotly.purge(gd);\n",
       "            observer.disconnect();\n",
       "        }}\n",
       "}});\n",
       "\n",
       "// Listen for the removal of the full notebook cells\n",
       "var notebookContainer = gd.closest('#notebook-container');\n",
       "if (notebookContainer) {{\n",
       "    x.observe(notebookContainer, {childList: true});\n",
       "}}\n",
       "\n",
       "// Listen for the clearing of the current output cell\n",
       "var outputEl = gd.closest('.output');\n",
       "if (outputEl) {{\n",
       "    x.observe(outputEl, {childList: true});\n",
       "}}\n",
       "\n",
       "                        })                };                });            </script>        </div>"
      ]
     },
     "metadata": {},
     "output_type": "display_data"
    }
   ],
   "source": [
    "# Performing gropu_by\n",
    "crewmate_all_tasks = df.copy()[(df['All Tasks Completed'] == 'Yes') & (df['Outcome'] == 'Win')].groupby(by = ['user_id'])['Outcome'].count()\n",
    "imposter_kills = df.copy()[(df['Team'] == 'Imposter')].groupby(by = 'user_id')['Imposter Kills'].sum()\n",
    "\n",
    "from plotly.subplots import make_subplots\n",
    "fig = make_subplots(rows=1, cols=2, specs=[[{'type':'domain'}, {'type':'domain'}]])\n",
    "\n",
    "pull = np.zeros(29)\n",
    "pull[7] = 0.3\n",
    "fig.add_trace(go.Pie(labels=crewmate_all_tasks.index, values=crewmate_all_tasks.values, name='All Task completed - Wining Count', pull = pull), 1, 1)\n",
    "\n",
    "pull[7], pull[11] = 0, 0.3\n",
    "fig.add_trace(go.Pie(labels=imposter_kills.index, values=imposter_kills.values, name='Imposter Kills', pull = pull), 1, 2)\n",
    "\n",
    "fig.update_traces(hole=.4, hoverinfo=None, textposition='inside')\n",
    "\n",
    "fig.update_layout(\n",
    "    title_text=\"Crewmate: Accelerated Task Completion for Victory 🏆 | Imposter: The Ultimate Killing Machine 🔪\",\n",
    "    title_x = 0.5,\n",
    "    height=600,\n",
    "    width=1050,\n",
    "    # Add annotations in the center of the donut pies.\n",
    "    annotations=[dict(text='Pro Crewmate', x=sum(fig.get_subplot(1, 1).x) / 2, y=0.5,\n",
    "                      font_size=14, showarrow=False, xanchor=\"center\"),\n",
    "                 dict(text='Pro Imposter', x=sum(fig.get_subplot(1, 2).x) / 2, y=0.5,\n",
    "                      font_size=14, showarrow=False, xanchor=\"center\")])\n",
    "fig.show()"
   ]
  },
  {
   "cell_type": "markdown",
   "id": "fd02ea90",
   "metadata": {
    "papermill": {
     "duration": 0.009829,
     "end_time": "2024-09-19T21:20:59.403384",
     "exception": false,
     "start_time": "2024-09-19T21:20:59.393555",
     "status": "completed"
    },
    "tags": []
   },
   "source": [
    "---"
   ]
  },
  {
   "cell_type": "markdown",
   "id": "5f05886d",
   "metadata": {
    "papermill": {
     "duration": 0.010112,
     "end_time": "2024-09-19T21:20:59.424226",
     "exception": false,
     "start_time": "2024-09-19T21:20:59.414114",
     "status": "completed"
    },
    "tags": []
   },
   "source": [
    "> ## Ejection Analysis: Crewmates vs. Imposters ⏏️📊"
   ]
  },
  {
   "cell_type": "code",
   "execution_count": 11,
   "id": "7ce4791c",
   "metadata": {
    "_kg_hide-input": true,
    "execution": {
     "iopub.execute_input": "2024-09-19T21:20:59.446992Z",
     "iopub.status.busy": "2024-09-19T21:20:59.446559Z",
     "iopub.status.idle": "2024-09-19T21:20:59.553512Z",
     "shell.execute_reply": "2024-09-19T21:20:59.552409Z"
    },
    "papermill": {
     "duration": 0.121404,
     "end_time": "2024-09-19T21:20:59.556095",
     "exception": false,
     "start_time": "2024-09-19T21:20:59.434691",
     "status": "completed"
    },
    "tags": []
   },
   "outputs": [],
   "source": [
    "crue_ej = []\n",
    "crue_not_ej = []\n",
    "imp_ej = []\n",
    "imp_not_ej = []\n",
    "\n",
    "for i in range(1, len(df['user_id'].unique()) + 1):\n",
    "    user = df[df['user_id'] == i]\n",
    "    \n",
    "    # Cruemate\n",
    "    crue_team_ej= user[(user['Team'] == 'Crewmate') & (user['Ejected'] == 'Yes')]\n",
    "    crue_team_not_ej= user[(user['Team'] == 'Crewmate') & (user['Ejected'] == 'No')]\n",
    "    crue_ej.append(crue_team_ej.shape[0])\n",
    "    crue_not_ej.append(crue_team_not_ej.shape[0])\n",
    "\n",
    "    # Imposter\n",
    "    imp_team = user[(user['Team'] == 'Imposter') & (user['Ejected'] == 'Yes')]\n",
    "    imp_team_not_ej = user[(user['Team'] == 'Imposter') & (user['Ejected'] == 'No')]\n",
    "    imp_ej.append(imp_team.shape[0])\n",
    "    imp_not_ej.append(imp_team_not_ej.shape[0])\n",
    "\n",
    "# Creating a DataFrame\n",
    "temp_df = pd.DataFrame({'crumate ejection': crue_ej, 'imposter ejection' : imp_ej, 'crumate no ejection': crue_not_ej, 'imposter no ejection': imp_not_ej})"
   ]
  },
  {
   "cell_type": "code",
   "execution_count": 12,
   "id": "aef94048",
   "metadata": {
    "_kg_hide-input": true,
    "execution": {
     "iopub.execute_input": "2024-09-19T21:20:59.579408Z",
     "iopub.status.busy": "2024-09-19T21:20:59.578296Z",
     "iopub.status.idle": "2024-09-19T21:20:59.662093Z",
     "shell.execute_reply": "2024-09-19T21:20:59.661065Z"
    },
    "papermill": {
     "duration": 0.097841,
     "end_time": "2024-09-19T21:20:59.664569",
     "exception": false,
     "start_time": "2024-09-19T21:20:59.566728",
     "status": "completed"
    },
    "tags": []
   },
   "outputs": [
    {
     "data": {
      "text/html": [
       "<div>                            <div id=\"7cd19a62-67dd-4496-8597-efbfebf42b5f\" class=\"plotly-graph-div\" style=\"height:700px; width:1500px;\"></div>            <script type=\"text/javascript\">                require([\"plotly\"], function(Plotly) {                    window.PLOTLYENV=window.PLOTLYENV || {};                                    if (document.getElementById(\"7cd19a62-67dd-4496-8597-efbfebf42b5f\")) {                    Plotly.newPlot(                        \"7cd19a62-67dd-4496-8597-efbfebf42b5f\",                        [{\"marker\":{\"size\":10},\"mode\":\"markers+lines\",\"name\":\"Not ejected\",\"x\":[1,2,3,4,5,6,7,8,9,10,11,12,13,14,15,16,17,18,19,20,21,22,23,24,25,26,27,28,29],\"y\":[42,59,76,86,76,73,19,80,76,38,53,65,30,85,45,74,66,77,21,80,78,31,73,80,29,75,31,55,33],\"type\":\"scatter\",\"xaxis\":\"x\",\"yaxis\":\"y\"},{\"marker\":{\"size\":10},\"mode\":\"markers+lines\",\"name\":\"Ejected\",\"x\":[1,2,3,4,5,6,7,8,9,10,11,12,13,14,15,16,17,18,19,20,21,22,23,24,25,26,27,28,29],\"y\":[2,2,0,0,5,4,3,1,1,1,3,6,0,0,3,6,2,3,1,2,1,0,3,0,1,4,0,1,0],\"type\":\"scatter\",\"xaxis\":\"x\",\"yaxis\":\"y\"},{\"marker\":{\"size\":10},\"mode\":\"markers+lines\",\"name\":\"Not Ejected\",\"x\":[1,2,3,4,5,6,7,8,9,10,11,12,13,14,15,16,17,18,19,20,21,22,23,24,25,26,27,28,29],\"y\":[6,15,18,12,12,18,7,15,18,7,13,28,7,14,15,15,12,16,7,16,19,4,24,18,5,18,6,14,5],\"type\":\"scatter\",\"xaxis\":\"x2\",\"yaxis\":\"y2\"},{\"marker\":{\"size\":10},\"mode\":\"markers+lines\",\"name\":\"Ejected\",\"x\":[1,2,3,4,5,6,7,8,9,10,11,12,13,14,15,16,17,18,19,20,21,22,23,24,25,26,27,28,29],\"y\":[4,3,6,2,7,5,4,4,5,0,3,1,1,1,1,5,11,4,2,2,2,0,0,2,2,3,1,0,1],\"type\":\"scatter\",\"xaxis\":\"x2\",\"yaxis\":\"y2\"}],                        {\"template\":{\"data\":{\"barpolar\":[{\"marker\":{\"line\":{\"color\":\"white\",\"width\":0.5},\"pattern\":{\"fillmode\":\"overlay\",\"size\":10,\"solidity\":0.2}},\"type\":\"barpolar\"}],\"bar\":[{\"error_x\":{\"color\":\"#2a3f5f\"},\"error_y\":{\"color\":\"#2a3f5f\"},\"marker\":{\"line\":{\"color\":\"white\",\"width\":0.5},\"pattern\":{\"fillmode\":\"overlay\",\"size\":10,\"solidity\":0.2}},\"type\":\"bar\"}],\"carpet\":[{\"aaxis\":{\"endlinecolor\":\"#2a3f5f\",\"gridcolor\":\"#C8D4E3\",\"linecolor\":\"#C8D4E3\",\"minorgridcolor\":\"#C8D4E3\",\"startlinecolor\":\"#2a3f5f\"},\"baxis\":{\"endlinecolor\":\"#2a3f5f\",\"gridcolor\":\"#C8D4E3\",\"linecolor\":\"#C8D4E3\",\"minorgridcolor\":\"#C8D4E3\",\"startlinecolor\":\"#2a3f5f\"},\"type\":\"carpet\"}],\"choropleth\":[{\"colorbar\":{\"outlinewidth\":0,\"ticks\":\"\"},\"type\":\"choropleth\"}],\"contourcarpet\":[{\"colorbar\":{\"outlinewidth\":0,\"ticks\":\"\"},\"type\":\"contourcarpet\"}],\"contour\":[{\"colorbar\":{\"outlinewidth\":0,\"ticks\":\"\"},\"colorscale\":[[0.0,\"#0d0887\"],[0.1111111111111111,\"#46039f\"],[0.2222222222222222,\"#7201a8\"],[0.3333333333333333,\"#9c179e\"],[0.4444444444444444,\"#bd3786\"],[0.5555555555555556,\"#d8576b\"],[0.6666666666666666,\"#ed7953\"],[0.7777777777777778,\"#fb9f3a\"],[0.8888888888888888,\"#fdca26\"],[1.0,\"#f0f921\"]],\"type\":\"contour\"}],\"heatmapgl\":[{\"colorbar\":{\"outlinewidth\":0,\"ticks\":\"\"},\"colorscale\":[[0.0,\"#0d0887\"],[0.1111111111111111,\"#46039f\"],[0.2222222222222222,\"#7201a8\"],[0.3333333333333333,\"#9c179e\"],[0.4444444444444444,\"#bd3786\"],[0.5555555555555556,\"#d8576b\"],[0.6666666666666666,\"#ed7953\"],[0.7777777777777778,\"#fb9f3a\"],[0.8888888888888888,\"#fdca26\"],[1.0,\"#f0f921\"]],\"type\":\"heatmapgl\"}],\"heatmap\":[{\"colorbar\":{\"outlinewidth\":0,\"ticks\":\"\"},\"colorscale\":[[0.0,\"#0d0887\"],[0.1111111111111111,\"#46039f\"],[0.2222222222222222,\"#7201a8\"],[0.3333333333333333,\"#9c179e\"],[0.4444444444444444,\"#bd3786\"],[0.5555555555555556,\"#d8576b\"],[0.6666666666666666,\"#ed7953\"],[0.7777777777777778,\"#fb9f3a\"],[0.8888888888888888,\"#fdca26\"],[1.0,\"#f0f921\"]],\"type\":\"heatmap\"}],\"histogram2dcontour\":[{\"colorbar\":{\"outlinewidth\":0,\"ticks\":\"\"},\"colorscale\":[[0.0,\"#0d0887\"],[0.1111111111111111,\"#46039f\"],[0.2222222222222222,\"#7201a8\"],[0.3333333333333333,\"#9c179e\"],[0.4444444444444444,\"#bd3786\"],[0.5555555555555556,\"#d8576b\"],[0.6666666666666666,\"#ed7953\"],[0.7777777777777778,\"#fb9f3a\"],[0.8888888888888888,\"#fdca26\"],[1.0,\"#f0f921\"]],\"type\":\"histogram2dcontour\"}],\"histogram2d\":[{\"colorbar\":{\"outlinewidth\":0,\"ticks\":\"\"},\"colorscale\":[[0.0,\"#0d0887\"],[0.1111111111111111,\"#46039f\"],[0.2222222222222222,\"#7201a8\"],[0.3333333333333333,\"#9c179e\"],[0.4444444444444444,\"#bd3786\"],[0.5555555555555556,\"#d8576b\"],[0.6666666666666666,\"#ed7953\"],[0.7777777777777778,\"#fb9f3a\"],[0.8888888888888888,\"#fdca26\"],[1.0,\"#f0f921\"]],\"type\":\"histogram2d\"}],\"histogram\":[{\"marker\":{\"pattern\":{\"fillmode\":\"overlay\",\"size\":10,\"solidity\":0.2}},\"type\":\"histogram\"}],\"mesh3d\":[{\"colorbar\":{\"outlinewidth\":0,\"ticks\":\"\"},\"type\":\"mesh3d\"}],\"parcoords\":[{\"line\":{\"colorbar\":{\"outlinewidth\":0,\"ticks\":\"\"}},\"type\":\"parcoords\"}],\"pie\":[{\"automargin\":true,\"type\":\"pie\"}],\"scatter3d\":[{\"line\":{\"colorbar\":{\"outlinewidth\":0,\"ticks\":\"\"}},\"marker\":{\"colorbar\":{\"outlinewidth\":0,\"ticks\":\"\"}},\"type\":\"scatter3d\"}],\"scattercarpet\":[{\"marker\":{\"colorbar\":{\"outlinewidth\":0,\"ticks\":\"\"}},\"type\":\"scattercarpet\"}],\"scattergeo\":[{\"marker\":{\"colorbar\":{\"outlinewidth\":0,\"ticks\":\"\"}},\"type\":\"scattergeo\"}],\"scattergl\":[{\"marker\":{\"colorbar\":{\"outlinewidth\":0,\"ticks\":\"\"}},\"type\":\"scattergl\"}],\"scattermapbox\":[{\"marker\":{\"colorbar\":{\"outlinewidth\":0,\"ticks\":\"\"}},\"type\":\"scattermapbox\"}],\"scatterpolargl\":[{\"marker\":{\"colorbar\":{\"outlinewidth\":0,\"ticks\":\"\"}},\"type\":\"scatterpolargl\"}],\"scatterpolar\":[{\"marker\":{\"colorbar\":{\"outlinewidth\":0,\"ticks\":\"\"}},\"type\":\"scatterpolar\"}],\"scatter\":[{\"fillpattern\":{\"fillmode\":\"overlay\",\"size\":10,\"solidity\":0.2},\"type\":\"scatter\"}],\"scatterternary\":[{\"marker\":{\"colorbar\":{\"outlinewidth\":0,\"ticks\":\"\"}},\"type\":\"scatterternary\"}],\"surface\":[{\"colorbar\":{\"outlinewidth\":0,\"ticks\":\"\"},\"colorscale\":[[0.0,\"#0d0887\"],[0.1111111111111111,\"#46039f\"],[0.2222222222222222,\"#7201a8\"],[0.3333333333333333,\"#9c179e\"],[0.4444444444444444,\"#bd3786\"],[0.5555555555555556,\"#d8576b\"],[0.6666666666666666,\"#ed7953\"],[0.7777777777777778,\"#fb9f3a\"],[0.8888888888888888,\"#fdca26\"],[1.0,\"#f0f921\"]],\"type\":\"surface\"}],\"table\":[{\"cells\":{\"fill\":{\"color\":\"#EBF0F8\"},\"line\":{\"color\":\"white\"}},\"header\":{\"fill\":{\"color\":\"#C8D4E3\"},\"line\":{\"color\":\"white\"}},\"type\":\"table\"}]},\"layout\":{\"annotationdefaults\":{\"arrowcolor\":\"#2a3f5f\",\"arrowhead\":0,\"arrowwidth\":1},\"autotypenumbers\":\"strict\",\"coloraxis\":{\"colorbar\":{\"outlinewidth\":0,\"ticks\":\"\"}},\"colorscale\":{\"diverging\":[[0,\"#8e0152\"],[0.1,\"#c51b7d\"],[0.2,\"#de77ae\"],[0.3,\"#f1b6da\"],[0.4,\"#fde0ef\"],[0.5,\"#f7f7f7\"],[0.6,\"#e6f5d0\"],[0.7,\"#b8e186\"],[0.8,\"#7fbc41\"],[0.9,\"#4d9221\"],[1,\"#276419\"]],\"sequential\":[[0.0,\"#0d0887\"],[0.1111111111111111,\"#46039f\"],[0.2222222222222222,\"#7201a8\"],[0.3333333333333333,\"#9c179e\"],[0.4444444444444444,\"#bd3786\"],[0.5555555555555556,\"#d8576b\"],[0.6666666666666666,\"#ed7953\"],[0.7777777777777778,\"#fb9f3a\"],[0.8888888888888888,\"#fdca26\"],[1.0,\"#f0f921\"]],\"sequentialminus\":[[0.0,\"#0d0887\"],[0.1111111111111111,\"#46039f\"],[0.2222222222222222,\"#7201a8\"],[0.3333333333333333,\"#9c179e\"],[0.4444444444444444,\"#bd3786\"],[0.5555555555555556,\"#d8576b\"],[0.6666666666666666,\"#ed7953\"],[0.7777777777777778,\"#fb9f3a\"],[0.8888888888888888,\"#fdca26\"],[1.0,\"#f0f921\"]]},\"colorway\":[\"#636efa\",\"#EF553B\",\"#00cc96\",\"#ab63fa\",\"#FFA15A\",\"#19d3f3\",\"#FF6692\",\"#B6E880\",\"#FF97FF\",\"#FECB52\"],\"font\":{\"color\":\"#2a3f5f\"},\"geo\":{\"bgcolor\":\"white\",\"lakecolor\":\"white\",\"landcolor\":\"white\",\"showlakes\":true,\"showland\":true,\"subunitcolor\":\"#C8D4E3\"},\"hoverlabel\":{\"align\":\"left\"},\"hovermode\":\"closest\",\"mapbox\":{\"style\":\"light\"},\"paper_bgcolor\":\"white\",\"plot_bgcolor\":\"white\",\"polar\":{\"angularaxis\":{\"gridcolor\":\"#EBF0F8\",\"linecolor\":\"#EBF0F8\",\"ticks\":\"\"},\"bgcolor\":\"white\",\"radialaxis\":{\"gridcolor\":\"#EBF0F8\",\"linecolor\":\"#EBF0F8\",\"ticks\":\"\"}},\"scene\":{\"xaxis\":{\"backgroundcolor\":\"white\",\"gridcolor\":\"#DFE8F3\",\"gridwidth\":2,\"linecolor\":\"#EBF0F8\",\"showbackground\":true,\"ticks\":\"\",\"zerolinecolor\":\"#EBF0F8\"},\"yaxis\":{\"backgroundcolor\":\"white\",\"gridcolor\":\"#DFE8F3\",\"gridwidth\":2,\"linecolor\":\"#EBF0F8\",\"showbackground\":true,\"ticks\":\"\",\"zerolinecolor\":\"#EBF0F8\"},\"zaxis\":{\"backgroundcolor\":\"white\",\"gridcolor\":\"#DFE8F3\",\"gridwidth\":2,\"linecolor\":\"#EBF0F8\",\"showbackground\":true,\"ticks\":\"\",\"zerolinecolor\":\"#EBF0F8\"}},\"shapedefaults\":{\"line\":{\"color\":\"#2a3f5f\"}},\"ternary\":{\"aaxis\":{\"gridcolor\":\"#DFE8F3\",\"linecolor\":\"#A2B1C6\",\"ticks\":\"\"},\"baxis\":{\"gridcolor\":\"#DFE8F3\",\"linecolor\":\"#A2B1C6\",\"ticks\":\"\"},\"bgcolor\":\"white\",\"caxis\":{\"gridcolor\":\"#DFE8F3\",\"linecolor\":\"#A2B1C6\",\"ticks\":\"\"}},\"title\":{\"x\":0.05},\"xaxis\":{\"automargin\":true,\"gridcolor\":\"#EBF0F8\",\"linecolor\":\"#EBF0F8\",\"ticks\":\"\",\"title\":{\"standoff\":15},\"zerolinecolor\":\"#EBF0F8\",\"zerolinewidth\":2},\"yaxis\":{\"automargin\":true,\"gridcolor\":\"#EBF0F8\",\"linecolor\":\"#EBF0F8\",\"ticks\":\"\",\"title\":{\"standoff\":15},\"zerolinecolor\":\"#EBF0F8\",\"zerolinewidth\":2}}},\"xaxis\":{\"anchor\":\"y\",\"domain\":[0.0,0.45],\"title\":{\"text\":\"Players\"},\"tickvals\":[1,2,3,4,5,6,7,8,9,10,11,12,13,14,15,16,17,18,19,20,21,22,23,24,25,26,27,28,29]},\"yaxis\":{\"anchor\":\"x\",\"domain\":[0.0,1.0],\"title\":{\"text\":\"Number of times Ejected\"}},\"xaxis2\":{\"anchor\":\"y2\",\"domain\":[0.55,1.0],\"title\":{\"text\":\"Players\"},\"tickvals\":[1,2,3,4,5,6,7,8,9,10,11,12,13,14,15,16,17,18,19,20,21,22,23,24,25,26,27,28,29]},\"yaxis2\":{\"anchor\":\"x2\",\"domain\":[0.0,1.0],\"title\":{\"text\":\"Number of times Ejected\"}},\"annotations\":[{\"font\":{\"size\":16},\"showarrow\":false,\"text\":\"Crewmates\",\"x\":0.225,\"xanchor\":\"center\",\"xref\":\"paper\",\"y\":1.0,\"yanchor\":\"bottom\",\"yref\":\"paper\"},{\"font\":{\"size\":16},\"showarrow\":false,\"text\":\"Imposters\",\"x\":0.775,\"xanchor\":\"center\",\"xref\":\"paper\",\"y\":1.0,\"yanchor\":\"bottom\",\"yref\":\"paper\"}],\"title\":{\"text\":\"Ejection Analysis: Crewmates vs. Imposters ⏏️📊\",\"x\":0.45},\"legend\":{\"title\":{\"text\":\"Total times Ejected\"}},\"height\":700,\"width\":1500},                        {\"responsive\": true}                    ).then(function(){\n",
       "                            \n",
       "var gd = document.getElementById('7cd19a62-67dd-4496-8597-efbfebf42b5f');\n",
       "var x = new MutationObserver(function (mutations, observer) {{\n",
       "        var display = window.getComputedStyle(gd).display;\n",
       "        if (!display || display === 'none') {{\n",
       "            console.log([gd, 'removed!']);\n",
       "            Plotly.purge(gd);\n",
       "            observer.disconnect();\n",
       "        }}\n",
       "}});\n",
       "\n",
       "// Listen for the removal of the full notebook cells\n",
       "var notebookContainer = gd.closest('#notebook-container');\n",
       "if (notebookContainer) {{\n",
       "    x.observe(notebookContainer, {childList: true});\n",
       "}}\n",
       "\n",
       "// Listen for the clearing of the current output cell\n",
       "var outputEl = gd.closest('.output');\n",
       "if (outputEl) {{\n",
       "    x.observe(outputEl, {childList: true});\n",
       "}}\n",
       "\n",
       "                        })                };                });            </script>        </div>"
      ]
     },
     "metadata": {},
     "output_type": "display_data"
    }
   ],
   "source": [
    "fig = make_subplots(rows=1, cols=2, subplot_titles=(\"Crewmates\", \"Imposters\"))\n",
    "\n",
    "fig.add_trace(go.Scatter(\n",
    "    x = temp_df.index + 1,\n",
    "    y = temp_df['crumate no ejection'],\n",
    "    mode = 'markers+lines',\n",
    "    marker = dict(size = 10),\n",
    "    name = 'Not ejected'\n",
    "), 1, 1)\n",
    "fig.add_trace(go.Scatter(\n",
    "    x = temp_df.index + 1,\n",
    "    y = temp_df['crumate ejection'],\n",
    "    mode = 'markers+lines',\n",
    "    marker = dict(size = 10),\n",
    "    name = 'Ejected'\n",
    "), 1, 1)\n",
    "\n",
    "fig.update_xaxes(title_text=\"Players\", tickvals=temp_df.index + 1, row=1, col=1)\n",
    "fig.update_yaxes(title_text=\"Number of times Ejected\", row=1, col=1)\n",
    "\n",
    "fig.add_trace(go.Scatter(\n",
    "    x = temp_df.index + 1,\n",
    "    y = temp_df['imposter no ejection'],\n",
    "    mode = 'markers+lines',\n",
    "    marker = dict(size = 10),\n",
    "    name = 'Not Ejected'\n",
    "), 1, 2)\n",
    "fig.add_trace(go.Scatter(\n",
    "    x = temp_df.index + 1,\n",
    "    y = temp_df['imposter ejection'],\n",
    "    mode = 'markers+lines',\n",
    "    marker = dict(size = 10),\n",
    "    name = 'Ejected'\n",
    "), 1, 2)\n",
    "\n",
    "fig.update_xaxes(title_text=\"Players\", tickvals=temp_df.index + 1, row=1, col=2)\n",
    "fig.update_yaxes(title_text=\"Number of times Ejected\", row=1, col=2)\n",
    "\n",
    "fig.update_layout(\n",
    "        title=\"Ejection Analysis: Crewmates vs. Imposters ⏏️📊\",\n",
    "        title_x = 0.45,\n",
    "        legend=dict(title=\"Total times Ejected\"),\n",
    "        template=\"plotly_white\",height=700,width=1500)\n",
    "\n",
    "fig.show()"
   ]
  },
  {
   "cell_type": "markdown",
   "id": "1eef3523",
   "metadata": {
    "papermill": {
     "duration": 0.010299,
     "end_time": "2024-09-19T21:20:59.685788",
     "exception": false,
     "start_time": "2024-09-19T21:20:59.675489",
     "status": "completed"
    },
    "tags": []
   },
   "source": [
    "---"
   ]
  },
  {
   "cell_type": "markdown",
   "id": "f0bd068b",
   "metadata": {
    "papermill": {
     "duration": 0.010317,
     "end_time": "2024-09-19T21:20:59.706662",
     "exception": false,
     "start_time": "2024-09-19T21:20:59.696345",
     "status": "completed"
    },
    "tags": []
   },
   "source": [
    "> ## Players' Winning vs. Losing Statistics 📊🏅"
   ]
  },
  {
   "cell_type": "code",
   "execution_count": 13,
   "id": "a00d62a0",
   "metadata": {
    "_kg_hide-input": true,
    "execution": {
     "iopub.execute_input": "2024-09-19T21:20:59.729528Z",
     "iopub.status.busy": "2024-09-19T21:20:59.729095Z",
     "iopub.status.idle": "2024-09-19T21:20:59.798713Z",
     "shell.execute_reply": "2024-09-19T21:20:59.797606Z"
    },
    "papermill": {
     "duration": 0.083914,
     "end_time": "2024-09-19T21:20:59.801278",
     "exception": false,
     "start_time": "2024-09-19T21:20:59.717364",
     "status": "completed"
    },
    "tags": []
   },
   "outputs": [],
   "source": [
    "win, loss = [], []\n",
    "for user in df['user_id'].unique():\n",
    "    X = df.copy()[df['user_id'] == user]['Outcome'].value_counts()\n",
    "    win.append(X['Win'])\n",
    "    loss.append(X['Loss'])\n",
    "\n",
    "win_loss_df = pd.DataFrame({'win_count': win, 'loss_count': loss})\n",
    "win_loss_df['Player'] = 'Palyer - ' + (win_loss_df.index + 1).astype('str')"
   ]
  },
  {
   "cell_type": "code",
   "execution_count": 14,
   "id": "6e6eca09",
   "metadata": {
    "_kg_hide-input": true,
    "execution": {
     "iopub.execute_input": "2024-09-19T21:20:59.825328Z",
     "iopub.status.busy": "2024-09-19T21:20:59.824586Z",
     "iopub.status.idle": "2024-09-19T21:20:59.868505Z",
     "shell.execute_reply": "2024-09-19T21:20:59.867455Z"
    },
    "papermill": {
     "duration": 0.058398,
     "end_time": "2024-09-19T21:20:59.870866",
     "exception": false,
     "start_time": "2024-09-19T21:20:59.812468",
     "status": "completed"
    },
    "tags": []
   },
   "outputs": [
    {
     "data": {
      "text/html": [
       "<div>                            <div id=\"b4d5dc3c-f9f9-4074-adc5-1776939e8cb3\" class=\"plotly-graph-div\" style=\"height:700px; width:1050px;\"></div>            <script type=\"text/javascript\">                require([\"plotly\"], function(Plotly) {                    window.PLOTLYENV=window.PLOTLYENV || {};                                    if (document.getElementById(\"b4d5dc3c-f9f9-4074-adc5-1776939e8cb3\")) {                    Plotly.newPlot(                        \"b4d5dc3c-f9f9-4074-adc5-1776939e8cb3\",                        [{\"name\":\"Win\",\"orientation\":\"h\",\"x\":[27,43,55,59,47,47,22,70,58,29,46,64,23,55,28,57,41,52,18,49,56,18,63,49,24,54,24,45,19],\"y\":[\"Palyer - 1\",\"Palyer - 2\",\"Palyer - 3\",\"Palyer - 4\",\"Palyer - 5\",\"Palyer - 6\",\"Palyer - 7\",\"Palyer - 8\",\"Palyer - 9\",\"Palyer - 10\",\"Palyer - 11\",\"Palyer - 12\",\"Palyer - 13\",\"Palyer - 14\",\"Palyer - 15\",\"Palyer - 16\",\"Palyer - 17\",\"Palyer - 18\",\"Palyer - 19\",\"Palyer - 20\",\"Palyer - 21\",\"Palyer - 22\",\"Palyer - 23\",\"Palyer - 24\",\"Palyer - 25\",\"Palyer - 26\",\"Palyer - 27\",\"Palyer - 28\",\"Palyer - 29\"],\"type\":\"bar\"},{\"name\":\"Loss\",\"orientation\":\"h\",\"x\":[-27,-36,-45,-41,-53,-53,-11,-30,-42,-17,-26,-36,-15,-45,-36,-43,-50,-48,-13,-51,-44,-17,-37,-51,-13,-46,-14,-25,-20],\"y\":[\"Palyer - 1\",\"Palyer - 2\",\"Palyer - 3\",\"Palyer - 4\",\"Palyer - 5\",\"Palyer - 6\",\"Palyer - 7\",\"Palyer - 8\",\"Palyer - 9\",\"Palyer - 10\",\"Palyer - 11\",\"Palyer - 12\",\"Palyer - 13\",\"Palyer - 14\",\"Palyer - 15\",\"Palyer - 16\",\"Palyer - 17\",\"Palyer - 18\",\"Palyer - 19\",\"Palyer - 20\",\"Palyer - 21\",\"Palyer - 22\",\"Palyer - 23\",\"Palyer - 24\",\"Palyer - 25\",\"Palyer - 26\",\"Palyer - 27\",\"Palyer - 28\",\"Palyer - 29\"],\"type\":\"bar\"}],                        {\"template\":{\"data\":{\"barpolar\":[{\"marker\":{\"line\":{\"color\":\"white\",\"width\":0.5},\"pattern\":{\"fillmode\":\"overlay\",\"size\":10,\"solidity\":0.2}},\"type\":\"barpolar\"}],\"bar\":[{\"error_x\":{\"color\":\"#2a3f5f\"},\"error_y\":{\"color\":\"#2a3f5f\"},\"marker\":{\"line\":{\"color\":\"white\",\"width\":0.5},\"pattern\":{\"fillmode\":\"overlay\",\"size\":10,\"solidity\":0.2}},\"type\":\"bar\"}],\"carpet\":[{\"aaxis\":{\"endlinecolor\":\"#2a3f5f\",\"gridcolor\":\"#C8D4E3\",\"linecolor\":\"#C8D4E3\",\"minorgridcolor\":\"#C8D4E3\",\"startlinecolor\":\"#2a3f5f\"},\"baxis\":{\"endlinecolor\":\"#2a3f5f\",\"gridcolor\":\"#C8D4E3\",\"linecolor\":\"#C8D4E3\",\"minorgridcolor\":\"#C8D4E3\",\"startlinecolor\":\"#2a3f5f\"},\"type\":\"carpet\"}],\"choropleth\":[{\"colorbar\":{\"outlinewidth\":0,\"ticks\":\"\"},\"type\":\"choropleth\"}],\"contourcarpet\":[{\"colorbar\":{\"outlinewidth\":0,\"ticks\":\"\"},\"type\":\"contourcarpet\"}],\"contour\":[{\"colorbar\":{\"outlinewidth\":0,\"ticks\":\"\"},\"colorscale\":[[0.0,\"#0d0887\"],[0.1111111111111111,\"#46039f\"],[0.2222222222222222,\"#7201a8\"],[0.3333333333333333,\"#9c179e\"],[0.4444444444444444,\"#bd3786\"],[0.5555555555555556,\"#d8576b\"],[0.6666666666666666,\"#ed7953\"],[0.7777777777777778,\"#fb9f3a\"],[0.8888888888888888,\"#fdca26\"],[1.0,\"#f0f921\"]],\"type\":\"contour\"}],\"heatmapgl\":[{\"colorbar\":{\"outlinewidth\":0,\"ticks\":\"\"},\"colorscale\":[[0.0,\"#0d0887\"],[0.1111111111111111,\"#46039f\"],[0.2222222222222222,\"#7201a8\"],[0.3333333333333333,\"#9c179e\"],[0.4444444444444444,\"#bd3786\"],[0.5555555555555556,\"#d8576b\"],[0.6666666666666666,\"#ed7953\"],[0.7777777777777778,\"#fb9f3a\"],[0.8888888888888888,\"#fdca26\"],[1.0,\"#f0f921\"]],\"type\":\"heatmapgl\"}],\"heatmap\":[{\"colorbar\":{\"outlinewidth\":0,\"ticks\":\"\"},\"colorscale\":[[0.0,\"#0d0887\"],[0.1111111111111111,\"#46039f\"],[0.2222222222222222,\"#7201a8\"],[0.3333333333333333,\"#9c179e\"],[0.4444444444444444,\"#bd3786\"],[0.5555555555555556,\"#d8576b\"],[0.6666666666666666,\"#ed7953\"],[0.7777777777777778,\"#fb9f3a\"],[0.8888888888888888,\"#fdca26\"],[1.0,\"#f0f921\"]],\"type\":\"heatmap\"}],\"histogram2dcontour\":[{\"colorbar\":{\"outlinewidth\":0,\"ticks\":\"\"},\"colorscale\":[[0.0,\"#0d0887\"],[0.1111111111111111,\"#46039f\"],[0.2222222222222222,\"#7201a8\"],[0.3333333333333333,\"#9c179e\"],[0.4444444444444444,\"#bd3786\"],[0.5555555555555556,\"#d8576b\"],[0.6666666666666666,\"#ed7953\"],[0.7777777777777778,\"#fb9f3a\"],[0.8888888888888888,\"#fdca26\"],[1.0,\"#f0f921\"]],\"type\":\"histogram2dcontour\"}],\"histogram2d\":[{\"colorbar\":{\"outlinewidth\":0,\"ticks\":\"\"},\"colorscale\":[[0.0,\"#0d0887\"],[0.1111111111111111,\"#46039f\"],[0.2222222222222222,\"#7201a8\"],[0.3333333333333333,\"#9c179e\"],[0.4444444444444444,\"#bd3786\"],[0.5555555555555556,\"#d8576b\"],[0.6666666666666666,\"#ed7953\"],[0.7777777777777778,\"#fb9f3a\"],[0.8888888888888888,\"#fdca26\"],[1.0,\"#f0f921\"]],\"type\":\"histogram2d\"}],\"histogram\":[{\"marker\":{\"pattern\":{\"fillmode\":\"overlay\",\"size\":10,\"solidity\":0.2}},\"type\":\"histogram\"}],\"mesh3d\":[{\"colorbar\":{\"outlinewidth\":0,\"ticks\":\"\"},\"type\":\"mesh3d\"}],\"parcoords\":[{\"line\":{\"colorbar\":{\"outlinewidth\":0,\"ticks\":\"\"}},\"type\":\"parcoords\"}],\"pie\":[{\"automargin\":true,\"type\":\"pie\"}],\"scatter3d\":[{\"line\":{\"colorbar\":{\"outlinewidth\":0,\"ticks\":\"\"}},\"marker\":{\"colorbar\":{\"outlinewidth\":0,\"ticks\":\"\"}},\"type\":\"scatter3d\"}],\"scattercarpet\":[{\"marker\":{\"colorbar\":{\"outlinewidth\":0,\"ticks\":\"\"}},\"type\":\"scattercarpet\"}],\"scattergeo\":[{\"marker\":{\"colorbar\":{\"outlinewidth\":0,\"ticks\":\"\"}},\"type\":\"scattergeo\"}],\"scattergl\":[{\"marker\":{\"colorbar\":{\"outlinewidth\":0,\"ticks\":\"\"}},\"type\":\"scattergl\"}],\"scattermapbox\":[{\"marker\":{\"colorbar\":{\"outlinewidth\":0,\"ticks\":\"\"}},\"type\":\"scattermapbox\"}],\"scatterpolargl\":[{\"marker\":{\"colorbar\":{\"outlinewidth\":0,\"ticks\":\"\"}},\"type\":\"scatterpolargl\"}],\"scatterpolar\":[{\"marker\":{\"colorbar\":{\"outlinewidth\":0,\"ticks\":\"\"}},\"type\":\"scatterpolar\"}],\"scatter\":[{\"fillpattern\":{\"fillmode\":\"overlay\",\"size\":10,\"solidity\":0.2},\"type\":\"scatter\"}],\"scatterternary\":[{\"marker\":{\"colorbar\":{\"outlinewidth\":0,\"ticks\":\"\"}},\"type\":\"scatterternary\"}],\"surface\":[{\"colorbar\":{\"outlinewidth\":0,\"ticks\":\"\"},\"colorscale\":[[0.0,\"#0d0887\"],[0.1111111111111111,\"#46039f\"],[0.2222222222222222,\"#7201a8\"],[0.3333333333333333,\"#9c179e\"],[0.4444444444444444,\"#bd3786\"],[0.5555555555555556,\"#d8576b\"],[0.6666666666666666,\"#ed7953\"],[0.7777777777777778,\"#fb9f3a\"],[0.8888888888888888,\"#fdca26\"],[1.0,\"#f0f921\"]],\"type\":\"surface\"}],\"table\":[{\"cells\":{\"fill\":{\"color\":\"#EBF0F8\"},\"line\":{\"color\":\"white\"}},\"header\":{\"fill\":{\"color\":\"#C8D4E3\"},\"line\":{\"color\":\"white\"}},\"type\":\"table\"}]},\"layout\":{\"annotationdefaults\":{\"arrowcolor\":\"#2a3f5f\",\"arrowhead\":0,\"arrowwidth\":1},\"autotypenumbers\":\"strict\",\"coloraxis\":{\"colorbar\":{\"outlinewidth\":0,\"ticks\":\"\"}},\"colorscale\":{\"diverging\":[[0,\"#8e0152\"],[0.1,\"#c51b7d\"],[0.2,\"#de77ae\"],[0.3,\"#f1b6da\"],[0.4,\"#fde0ef\"],[0.5,\"#f7f7f7\"],[0.6,\"#e6f5d0\"],[0.7,\"#b8e186\"],[0.8,\"#7fbc41\"],[0.9,\"#4d9221\"],[1,\"#276419\"]],\"sequential\":[[0.0,\"#0d0887\"],[0.1111111111111111,\"#46039f\"],[0.2222222222222222,\"#7201a8\"],[0.3333333333333333,\"#9c179e\"],[0.4444444444444444,\"#bd3786\"],[0.5555555555555556,\"#d8576b\"],[0.6666666666666666,\"#ed7953\"],[0.7777777777777778,\"#fb9f3a\"],[0.8888888888888888,\"#fdca26\"],[1.0,\"#f0f921\"]],\"sequentialminus\":[[0.0,\"#0d0887\"],[0.1111111111111111,\"#46039f\"],[0.2222222222222222,\"#7201a8\"],[0.3333333333333333,\"#9c179e\"],[0.4444444444444444,\"#bd3786\"],[0.5555555555555556,\"#d8576b\"],[0.6666666666666666,\"#ed7953\"],[0.7777777777777778,\"#fb9f3a\"],[0.8888888888888888,\"#fdca26\"],[1.0,\"#f0f921\"]]},\"colorway\":[\"#636efa\",\"#EF553B\",\"#00cc96\",\"#ab63fa\",\"#FFA15A\",\"#19d3f3\",\"#FF6692\",\"#B6E880\",\"#FF97FF\",\"#FECB52\"],\"font\":{\"color\":\"#2a3f5f\"},\"geo\":{\"bgcolor\":\"white\",\"lakecolor\":\"white\",\"landcolor\":\"white\",\"showlakes\":true,\"showland\":true,\"subunitcolor\":\"#C8D4E3\"},\"hoverlabel\":{\"align\":\"left\"},\"hovermode\":\"closest\",\"mapbox\":{\"style\":\"light\"},\"paper_bgcolor\":\"white\",\"plot_bgcolor\":\"white\",\"polar\":{\"angularaxis\":{\"gridcolor\":\"#EBF0F8\",\"linecolor\":\"#EBF0F8\",\"ticks\":\"\"},\"bgcolor\":\"white\",\"radialaxis\":{\"gridcolor\":\"#EBF0F8\",\"linecolor\":\"#EBF0F8\",\"ticks\":\"\"}},\"scene\":{\"xaxis\":{\"backgroundcolor\":\"white\",\"gridcolor\":\"#DFE8F3\",\"gridwidth\":2,\"linecolor\":\"#EBF0F8\",\"showbackground\":true,\"ticks\":\"\",\"zerolinecolor\":\"#EBF0F8\"},\"yaxis\":{\"backgroundcolor\":\"white\",\"gridcolor\":\"#DFE8F3\",\"gridwidth\":2,\"linecolor\":\"#EBF0F8\",\"showbackground\":true,\"ticks\":\"\",\"zerolinecolor\":\"#EBF0F8\"},\"zaxis\":{\"backgroundcolor\":\"white\",\"gridcolor\":\"#DFE8F3\",\"gridwidth\":2,\"linecolor\":\"#EBF0F8\",\"showbackground\":true,\"ticks\":\"\",\"zerolinecolor\":\"#EBF0F8\"}},\"shapedefaults\":{\"line\":{\"color\":\"#2a3f5f\"}},\"ternary\":{\"aaxis\":{\"gridcolor\":\"#DFE8F3\",\"linecolor\":\"#A2B1C6\",\"ticks\":\"\"},\"baxis\":{\"gridcolor\":\"#DFE8F3\",\"linecolor\":\"#A2B1C6\",\"ticks\":\"\"},\"bgcolor\":\"white\",\"caxis\":{\"gridcolor\":\"#DFE8F3\",\"linecolor\":\"#A2B1C6\",\"ticks\":\"\"}},\"title\":{\"x\":0.05},\"xaxis\":{\"automargin\":true,\"gridcolor\":\"#EBF0F8\",\"linecolor\":\"#EBF0F8\",\"ticks\":\"\",\"title\":{\"standoff\":15},\"zerolinecolor\":\"#EBF0F8\",\"zerolinewidth\":2},\"yaxis\":{\"automargin\":true,\"gridcolor\":\"#EBF0F8\",\"linecolor\":\"#EBF0F8\",\"ticks\":\"\",\"title\":{\"standoff\":15},\"zerolinecolor\":\"#EBF0F8\",\"zerolinewidth\":2}}},\"title\":{\"text\":\"Players' Winning vs. Losing Statistics 📊🏅\",\"x\":0.45},\"xaxis\":{\"title\":{\"text\":\"Win\\u002fLoss Count\"}},\"yaxis\":{\"title\":{\"text\":\"Players\"}},\"barmode\":\"relative\",\"bargap\":0.5,\"width\":1050,\"height\":700},                        {\"responsive\": true}                    ).then(function(){\n",
       "                            \n",
       "var gd = document.getElementById('b4d5dc3c-f9f9-4074-adc5-1776939e8cb3');\n",
       "var x = new MutationObserver(function (mutations, observer) {{\n",
       "        var display = window.getComputedStyle(gd).display;\n",
       "        if (!display || display === 'none') {{\n",
       "            console.log([gd, 'removed!']);\n",
       "            Plotly.purge(gd);\n",
       "            observer.disconnect();\n",
       "        }}\n",
       "}});\n",
       "\n",
       "// Listen for the removal of the full notebook cells\n",
       "var notebookContainer = gd.closest('#notebook-container');\n",
       "if (notebookContainer) {{\n",
       "    x.observe(notebookContainer, {childList: true});\n",
       "}}\n",
       "\n",
       "// Listen for the clearing of the current output cell\n",
       "var outputEl = gd.closest('.output');\n",
       "if (outputEl) {{\n",
       "    x.observe(outputEl, {childList: true});\n",
       "}}\n",
       "\n",
       "                        })                };                });            </script>        </div>"
      ]
     },
     "metadata": {},
     "output_type": "display_data"
    }
   ],
   "source": [
    "fig = go.Figure()\n",
    "\n",
    "fig.add_trace(go.Bar(x=win_loss_df['win_count'], y=win_loss_df['Player'], orientation='h', name='Win'))\n",
    "\n",
    "fig.add_trace(go.Bar(x= -win_loss_df['loss_count'], y=win_loss_df['Player'], orientation='h', name='Loss'))\n",
    "\n",
    "fig.update_layout(\n",
    "    title = \"Players' Winning vs. Losing Statistics 📊🏅\",\n",
    "    title_x=0.45,\n",
    "    xaxis = dict(title = 'Win/Loss Count'),\n",
    "    yaxis = dict(title = 'Players'),\n",
    "    barmode='relative',  # Use 'relative' to stack bars next to each other\n",
    "    bargap=0.5,         # Adjust the gap between bars\n",
    "    width = 1050,\n",
    "    height = 700,\n",
    "    template=\"plotly_white\"\n",
    ")\n",
    "              \n",
    "fig.show()"
   ]
  },
  {
   "cell_type": "markdown",
   "id": "d271d509",
   "metadata": {
    "papermill": {
     "duration": 0.011164,
     "end_time": "2024-09-19T21:20:59.893432",
     "exception": false,
     "start_time": "2024-09-19T21:20:59.882268",
     "status": "completed"
    },
    "tags": []
   },
   "source": [
    "---"
   ]
  },
  {
   "cell_type": "markdown",
   "id": "4cd44b2f",
   "metadata": {
    "papermill": {
     "duration": 0.010743,
     "end_time": "2024-09-19T21:20:59.915736",
     "exception": false,
     "start_time": "2024-09-19T21:20:59.904993",
     "status": "completed"
    },
    "tags": []
   },
   "source": [
    "> ## Imposters' Win-Loss Statistics Analysis 📊🏅"
   ]
  },
  {
   "cell_type": "code",
   "execution_count": 15,
   "id": "89bf01fe",
   "metadata": {
    "_kg_hide-input": true,
    "execution": {
     "iopub.execute_input": "2024-09-19T21:20:59.939392Z",
     "iopub.status.busy": "2024-09-19T21:20:59.938982Z",
     "iopub.status.idle": "2024-09-19T21:21:00.013611Z",
     "shell.execute_reply": "2024-09-19T21:21:00.012616Z"
    },
    "papermill": {
     "duration": 0.089428,
     "end_time": "2024-09-19T21:21:00.016275",
     "exception": false,
     "start_time": "2024-09-19T21:20:59.926847",
     "status": "completed"
    },
    "tags": []
   },
   "outputs": [],
   "source": [
    "win, loss = [], []\n",
    "for user in df['user_id'].unique():\n",
    "    X = df.copy()[(df['user_id'] == user) & (df['Team'] == 'Imposter')]['Outcome'].value_counts()\n",
    "    win.append(X['Win'])\n",
    "    loss.append(X['Loss'])\n",
    "    \n",
    "win_loss_df = pd.DataFrame({'win_count': win, 'loss_count': loss})\n",
    "win_loss_df['Player'] = 'Palyer - ' + (win_loss_df.index + 1).astype('str')"
   ]
  },
  {
   "cell_type": "code",
   "execution_count": 16,
   "id": "406315e7",
   "metadata": {
    "_kg_hide-input": true,
    "execution": {
     "iopub.execute_input": "2024-09-19T21:21:00.040961Z",
     "iopub.status.busy": "2024-09-19T21:21:00.039984Z",
     "iopub.status.idle": "2024-09-19T21:21:00.077978Z",
     "shell.execute_reply": "2024-09-19T21:21:00.076899Z"
    },
    "papermill": {
     "duration": 0.052583,
     "end_time": "2024-09-19T21:21:00.080270",
     "exception": false,
     "start_time": "2024-09-19T21:21:00.027687",
     "status": "completed"
    },
    "tags": []
   },
   "outputs": [
    {
     "data": {
      "text/html": [
       "<div>                            <div id=\"600efd3a-3fdb-4a21-8947-cc9d36028ccf\" class=\"plotly-graph-div\" style=\"height:700px; width:1050px;\"></div>            <script type=\"text/javascript\">                require([\"plotly\"], function(Plotly) {                    window.PLOTLYENV=window.PLOTLYENV || {};                                    if (document.getElementById(\"600efd3a-3fdb-4a21-8947-cc9d36028ccf\")) {                    Plotly.newPlot(                        \"600efd3a-3fdb-4a21-8947-cc9d36028ccf\",                        [{\"name\":\"Win\",\"orientation\":\"h\",\"x\":[6,8,13,8,7,10,7,11,14,3,13,20,3,8,9,14,8,11,6,5,12,3,18,9,5,10,4,13,3],\"y\":[\"Palyer - 1\",\"Palyer - 2\",\"Palyer - 3\",\"Palyer - 4\",\"Palyer - 5\",\"Palyer - 6\",\"Palyer - 7\",\"Palyer - 8\",\"Palyer - 9\",\"Palyer - 10\",\"Palyer - 11\",\"Palyer - 12\",\"Palyer - 13\",\"Palyer - 14\",\"Palyer - 15\",\"Palyer - 16\",\"Palyer - 17\",\"Palyer - 18\",\"Palyer - 19\",\"Palyer - 20\",\"Palyer - 21\",\"Palyer - 22\",\"Palyer - 23\",\"Palyer - 24\",\"Palyer - 25\",\"Palyer - 26\",\"Palyer - 27\",\"Palyer - 28\",\"Palyer - 29\"],\"type\":\"bar\"},{\"name\":\"Loss\",\"orientation\":\"h\",\"x\":[-4,-10,-11,-6,-12,-13,-4,-8,-9,-4,-3,-9,-5,-7,-7,-6,-15,-9,-3,-13,-9,-1,-6,-11,-2,-11,-3,-1,-3],\"y\":[\"Palyer - 1\",\"Palyer - 2\",\"Palyer - 3\",\"Palyer - 4\",\"Palyer - 5\",\"Palyer - 6\",\"Palyer - 7\",\"Palyer - 8\",\"Palyer - 9\",\"Palyer - 10\",\"Palyer - 11\",\"Palyer - 12\",\"Palyer - 13\",\"Palyer - 14\",\"Palyer - 15\",\"Palyer - 16\",\"Palyer - 17\",\"Palyer - 18\",\"Palyer - 19\",\"Palyer - 20\",\"Palyer - 21\",\"Palyer - 22\",\"Palyer - 23\",\"Palyer - 24\",\"Palyer - 25\",\"Palyer - 26\",\"Palyer - 27\",\"Palyer - 28\",\"Palyer - 29\"],\"type\":\"bar\"}],                        {\"template\":{\"data\":{\"barpolar\":[{\"marker\":{\"line\":{\"color\":\"white\",\"width\":0.5},\"pattern\":{\"fillmode\":\"overlay\",\"size\":10,\"solidity\":0.2}},\"type\":\"barpolar\"}],\"bar\":[{\"error_x\":{\"color\":\"#2a3f5f\"},\"error_y\":{\"color\":\"#2a3f5f\"},\"marker\":{\"line\":{\"color\":\"white\",\"width\":0.5},\"pattern\":{\"fillmode\":\"overlay\",\"size\":10,\"solidity\":0.2}},\"type\":\"bar\"}],\"carpet\":[{\"aaxis\":{\"endlinecolor\":\"#2a3f5f\",\"gridcolor\":\"#C8D4E3\",\"linecolor\":\"#C8D4E3\",\"minorgridcolor\":\"#C8D4E3\",\"startlinecolor\":\"#2a3f5f\"},\"baxis\":{\"endlinecolor\":\"#2a3f5f\",\"gridcolor\":\"#C8D4E3\",\"linecolor\":\"#C8D4E3\",\"minorgridcolor\":\"#C8D4E3\",\"startlinecolor\":\"#2a3f5f\"},\"type\":\"carpet\"}],\"choropleth\":[{\"colorbar\":{\"outlinewidth\":0,\"ticks\":\"\"},\"type\":\"choropleth\"}],\"contourcarpet\":[{\"colorbar\":{\"outlinewidth\":0,\"ticks\":\"\"},\"type\":\"contourcarpet\"}],\"contour\":[{\"colorbar\":{\"outlinewidth\":0,\"ticks\":\"\"},\"colorscale\":[[0.0,\"#0d0887\"],[0.1111111111111111,\"#46039f\"],[0.2222222222222222,\"#7201a8\"],[0.3333333333333333,\"#9c179e\"],[0.4444444444444444,\"#bd3786\"],[0.5555555555555556,\"#d8576b\"],[0.6666666666666666,\"#ed7953\"],[0.7777777777777778,\"#fb9f3a\"],[0.8888888888888888,\"#fdca26\"],[1.0,\"#f0f921\"]],\"type\":\"contour\"}],\"heatmapgl\":[{\"colorbar\":{\"outlinewidth\":0,\"ticks\":\"\"},\"colorscale\":[[0.0,\"#0d0887\"],[0.1111111111111111,\"#46039f\"],[0.2222222222222222,\"#7201a8\"],[0.3333333333333333,\"#9c179e\"],[0.4444444444444444,\"#bd3786\"],[0.5555555555555556,\"#d8576b\"],[0.6666666666666666,\"#ed7953\"],[0.7777777777777778,\"#fb9f3a\"],[0.8888888888888888,\"#fdca26\"],[1.0,\"#f0f921\"]],\"type\":\"heatmapgl\"}],\"heatmap\":[{\"colorbar\":{\"outlinewidth\":0,\"ticks\":\"\"},\"colorscale\":[[0.0,\"#0d0887\"],[0.1111111111111111,\"#46039f\"],[0.2222222222222222,\"#7201a8\"],[0.3333333333333333,\"#9c179e\"],[0.4444444444444444,\"#bd3786\"],[0.5555555555555556,\"#d8576b\"],[0.6666666666666666,\"#ed7953\"],[0.7777777777777778,\"#fb9f3a\"],[0.8888888888888888,\"#fdca26\"],[1.0,\"#f0f921\"]],\"type\":\"heatmap\"}],\"histogram2dcontour\":[{\"colorbar\":{\"outlinewidth\":0,\"ticks\":\"\"},\"colorscale\":[[0.0,\"#0d0887\"],[0.1111111111111111,\"#46039f\"],[0.2222222222222222,\"#7201a8\"],[0.3333333333333333,\"#9c179e\"],[0.4444444444444444,\"#bd3786\"],[0.5555555555555556,\"#d8576b\"],[0.6666666666666666,\"#ed7953\"],[0.7777777777777778,\"#fb9f3a\"],[0.8888888888888888,\"#fdca26\"],[1.0,\"#f0f921\"]],\"type\":\"histogram2dcontour\"}],\"histogram2d\":[{\"colorbar\":{\"outlinewidth\":0,\"ticks\":\"\"},\"colorscale\":[[0.0,\"#0d0887\"],[0.1111111111111111,\"#46039f\"],[0.2222222222222222,\"#7201a8\"],[0.3333333333333333,\"#9c179e\"],[0.4444444444444444,\"#bd3786\"],[0.5555555555555556,\"#d8576b\"],[0.6666666666666666,\"#ed7953\"],[0.7777777777777778,\"#fb9f3a\"],[0.8888888888888888,\"#fdca26\"],[1.0,\"#f0f921\"]],\"type\":\"histogram2d\"}],\"histogram\":[{\"marker\":{\"pattern\":{\"fillmode\":\"overlay\",\"size\":10,\"solidity\":0.2}},\"type\":\"histogram\"}],\"mesh3d\":[{\"colorbar\":{\"outlinewidth\":0,\"ticks\":\"\"},\"type\":\"mesh3d\"}],\"parcoords\":[{\"line\":{\"colorbar\":{\"outlinewidth\":0,\"ticks\":\"\"}},\"type\":\"parcoords\"}],\"pie\":[{\"automargin\":true,\"type\":\"pie\"}],\"scatter3d\":[{\"line\":{\"colorbar\":{\"outlinewidth\":0,\"ticks\":\"\"}},\"marker\":{\"colorbar\":{\"outlinewidth\":0,\"ticks\":\"\"}},\"type\":\"scatter3d\"}],\"scattercarpet\":[{\"marker\":{\"colorbar\":{\"outlinewidth\":0,\"ticks\":\"\"}},\"type\":\"scattercarpet\"}],\"scattergeo\":[{\"marker\":{\"colorbar\":{\"outlinewidth\":0,\"ticks\":\"\"}},\"type\":\"scattergeo\"}],\"scattergl\":[{\"marker\":{\"colorbar\":{\"outlinewidth\":0,\"ticks\":\"\"}},\"type\":\"scattergl\"}],\"scattermapbox\":[{\"marker\":{\"colorbar\":{\"outlinewidth\":0,\"ticks\":\"\"}},\"type\":\"scattermapbox\"}],\"scatterpolargl\":[{\"marker\":{\"colorbar\":{\"outlinewidth\":0,\"ticks\":\"\"}},\"type\":\"scatterpolargl\"}],\"scatterpolar\":[{\"marker\":{\"colorbar\":{\"outlinewidth\":0,\"ticks\":\"\"}},\"type\":\"scatterpolar\"}],\"scatter\":[{\"fillpattern\":{\"fillmode\":\"overlay\",\"size\":10,\"solidity\":0.2},\"type\":\"scatter\"}],\"scatterternary\":[{\"marker\":{\"colorbar\":{\"outlinewidth\":0,\"ticks\":\"\"}},\"type\":\"scatterternary\"}],\"surface\":[{\"colorbar\":{\"outlinewidth\":0,\"ticks\":\"\"},\"colorscale\":[[0.0,\"#0d0887\"],[0.1111111111111111,\"#46039f\"],[0.2222222222222222,\"#7201a8\"],[0.3333333333333333,\"#9c179e\"],[0.4444444444444444,\"#bd3786\"],[0.5555555555555556,\"#d8576b\"],[0.6666666666666666,\"#ed7953\"],[0.7777777777777778,\"#fb9f3a\"],[0.8888888888888888,\"#fdca26\"],[1.0,\"#f0f921\"]],\"type\":\"surface\"}],\"table\":[{\"cells\":{\"fill\":{\"color\":\"#EBF0F8\"},\"line\":{\"color\":\"white\"}},\"header\":{\"fill\":{\"color\":\"#C8D4E3\"},\"line\":{\"color\":\"white\"}},\"type\":\"table\"}]},\"layout\":{\"annotationdefaults\":{\"arrowcolor\":\"#2a3f5f\",\"arrowhead\":0,\"arrowwidth\":1},\"autotypenumbers\":\"strict\",\"coloraxis\":{\"colorbar\":{\"outlinewidth\":0,\"ticks\":\"\"}},\"colorscale\":{\"diverging\":[[0,\"#8e0152\"],[0.1,\"#c51b7d\"],[0.2,\"#de77ae\"],[0.3,\"#f1b6da\"],[0.4,\"#fde0ef\"],[0.5,\"#f7f7f7\"],[0.6,\"#e6f5d0\"],[0.7,\"#b8e186\"],[0.8,\"#7fbc41\"],[0.9,\"#4d9221\"],[1,\"#276419\"]],\"sequential\":[[0.0,\"#0d0887\"],[0.1111111111111111,\"#46039f\"],[0.2222222222222222,\"#7201a8\"],[0.3333333333333333,\"#9c179e\"],[0.4444444444444444,\"#bd3786\"],[0.5555555555555556,\"#d8576b\"],[0.6666666666666666,\"#ed7953\"],[0.7777777777777778,\"#fb9f3a\"],[0.8888888888888888,\"#fdca26\"],[1.0,\"#f0f921\"]],\"sequentialminus\":[[0.0,\"#0d0887\"],[0.1111111111111111,\"#46039f\"],[0.2222222222222222,\"#7201a8\"],[0.3333333333333333,\"#9c179e\"],[0.4444444444444444,\"#bd3786\"],[0.5555555555555556,\"#d8576b\"],[0.6666666666666666,\"#ed7953\"],[0.7777777777777778,\"#fb9f3a\"],[0.8888888888888888,\"#fdca26\"],[1.0,\"#f0f921\"]]},\"colorway\":[\"#636efa\",\"#EF553B\",\"#00cc96\",\"#ab63fa\",\"#FFA15A\",\"#19d3f3\",\"#FF6692\",\"#B6E880\",\"#FF97FF\",\"#FECB52\"],\"font\":{\"color\":\"#2a3f5f\"},\"geo\":{\"bgcolor\":\"white\",\"lakecolor\":\"white\",\"landcolor\":\"white\",\"showlakes\":true,\"showland\":true,\"subunitcolor\":\"#C8D4E3\"},\"hoverlabel\":{\"align\":\"left\"},\"hovermode\":\"closest\",\"mapbox\":{\"style\":\"light\"},\"paper_bgcolor\":\"white\",\"plot_bgcolor\":\"white\",\"polar\":{\"angularaxis\":{\"gridcolor\":\"#EBF0F8\",\"linecolor\":\"#EBF0F8\",\"ticks\":\"\"},\"bgcolor\":\"white\",\"radialaxis\":{\"gridcolor\":\"#EBF0F8\",\"linecolor\":\"#EBF0F8\",\"ticks\":\"\"}},\"scene\":{\"xaxis\":{\"backgroundcolor\":\"white\",\"gridcolor\":\"#DFE8F3\",\"gridwidth\":2,\"linecolor\":\"#EBF0F8\",\"showbackground\":true,\"ticks\":\"\",\"zerolinecolor\":\"#EBF0F8\"},\"yaxis\":{\"backgroundcolor\":\"white\",\"gridcolor\":\"#DFE8F3\",\"gridwidth\":2,\"linecolor\":\"#EBF0F8\",\"showbackground\":true,\"ticks\":\"\",\"zerolinecolor\":\"#EBF0F8\"},\"zaxis\":{\"backgroundcolor\":\"white\",\"gridcolor\":\"#DFE8F3\",\"gridwidth\":2,\"linecolor\":\"#EBF0F8\",\"showbackground\":true,\"ticks\":\"\",\"zerolinecolor\":\"#EBF0F8\"}},\"shapedefaults\":{\"line\":{\"color\":\"#2a3f5f\"}},\"ternary\":{\"aaxis\":{\"gridcolor\":\"#DFE8F3\",\"linecolor\":\"#A2B1C6\",\"ticks\":\"\"},\"baxis\":{\"gridcolor\":\"#DFE8F3\",\"linecolor\":\"#A2B1C6\",\"ticks\":\"\"},\"bgcolor\":\"white\",\"caxis\":{\"gridcolor\":\"#DFE8F3\",\"linecolor\":\"#A2B1C6\",\"ticks\":\"\"}},\"title\":{\"x\":0.05},\"xaxis\":{\"automargin\":true,\"gridcolor\":\"#EBF0F8\",\"linecolor\":\"#EBF0F8\",\"ticks\":\"\",\"title\":{\"standoff\":15},\"zerolinecolor\":\"#EBF0F8\",\"zerolinewidth\":2},\"yaxis\":{\"automargin\":true,\"gridcolor\":\"#EBF0F8\",\"linecolor\":\"#EBF0F8\",\"ticks\":\"\",\"title\":{\"standoff\":15},\"zerolinecolor\":\"#EBF0F8\",\"zerolinewidth\":2}}},\"title\":{\"text\":\"Imposters' Win-Loss Statistics Analysis 📊🏅\",\"x\":0.45},\"xaxis\":{\"title\":{\"text\":\"Win\\u002fLoss Count\"}},\"yaxis\":{\"title\":{\"text\":\"Players\"}},\"barmode\":\"relative\",\"bargap\":0.5,\"width\":1050,\"height\":700},                        {\"responsive\": true}                    ).then(function(){\n",
       "                            \n",
       "var gd = document.getElementById('600efd3a-3fdb-4a21-8947-cc9d36028ccf');\n",
       "var x = new MutationObserver(function (mutations, observer) {{\n",
       "        var display = window.getComputedStyle(gd).display;\n",
       "        if (!display || display === 'none') {{\n",
       "            console.log([gd, 'removed!']);\n",
       "            Plotly.purge(gd);\n",
       "            observer.disconnect();\n",
       "        }}\n",
       "}});\n",
       "\n",
       "// Listen for the removal of the full notebook cells\n",
       "var notebookContainer = gd.closest('#notebook-container');\n",
       "if (notebookContainer) {{\n",
       "    x.observe(notebookContainer, {childList: true});\n",
       "}}\n",
       "\n",
       "// Listen for the clearing of the current output cell\n",
       "var outputEl = gd.closest('.output');\n",
       "if (outputEl) {{\n",
       "    x.observe(outputEl, {childList: true});\n",
       "}}\n",
       "\n",
       "                        })                };                });            </script>        </div>"
      ]
     },
     "metadata": {},
     "output_type": "display_data"
    }
   ],
   "source": [
    "fig = go.Figure()\n",
    "\n",
    "fig.add_trace(go.Bar(x=win_loss_df['win_count'], y=win_loss_df['Player'], orientation='h', name='Win'))\n",
    "\n",
    "fig.add_trace(go.Bar(x= -win_loss_df['loss_count'], y=win_loss_df['Player'], orientation='h', name='Loss'))\n",
    "\n",
    "fig.update_layout(\n",
    "    title = \"Imposters' Win-Loss Statistics Analysis 📊🏅\",\n",
    "    title_x=0.45,\n",
    "    xaxis = dict(title = 'Win/Loss Count'),\n",
    "    yaxis = dict(title = 'Players'),\n",
    "    barmode='relative',  # Use 'relative' to stack bars next to each other\n",
    "    bargap=0.5,         # Adjust the gap between bars\n",
    "    width = 1050,\n",
    "    height = 700,\n",
    "    template=\"plotly_white\"\n",
    ")\n",
    "              \n",
    "fig.show()"
   ]
  },
  {
   "cell_type": "markdown",
   "id": "a4d8ff92",
   "metadata": {
    "papermill": {
     "duration": 0.010959,
     "end_time": "2024-09-19T21:21:00.102918",
     "exception": false,
     "start_time": "2024-09-19T21:21:00.091959",
     "status": "completed"
    },
    "tags": []
   },
   "source": [
    "---"
   ]
  },
  {
   "cell_type": "markdown",
   "id": "e365eb00",
   "metadata": {
    "papermill": {
     "duration": 0.010973,
     "end_time": "2024-09-19T21:21:00.125401",
     "exception": false,
     "start_time": "2024-09-19T21:21:00.114428",
     "status": "completed"
    },
    "tags": []
   },
   "source": [
    "> ## Crewmates' Win-Loss Statistics Analysis 📊🏅"
   ]
  },
  {
   "cell_type": "code",
   "execution_count": 17,
   "id": "a287da56",
   "metadata": {
    "_kg_hide-input": true,
    "execution": {
     "iopub.execute_input": "2024-09-19T21:21:00.149737Z",
     "iopub.status.busy": "2024-09-19T21:21:00.149322Z",
     "iopub.status.idle": "2024-09-19T21:21:00.226199Z",
     "shell.execute_reply": "2024-09-19T21:21:00.225182Z"
    },
    "papermill": {
     "duration": 0.09194,
     "end_time": "2024-09-19T21:21:00.228700",
     "exception": false,
     "start_time": "2024-09-19T21:21:00.136760",
     "status": "completed"
    },
    "tags": []
   },
   "outputs": [],
   "source": [
    "win, loss = [], []\n",
    "for user in df['user_id'].unique():\n",
    "    X = df.copy()[(df['user_id'] == user) & (df['Team'] == 'Crewmate')]['Outcome'].value_counts()\n",
    "    win.append(X['Win'])\n",
    "    loss.append(X['Loss'])\n",
    "    \n",
    "win_loss_df = pd.DataFrame({'win_count': win, 'loss_count': loss})\n",
    "win_loss_df['Player'] = 'Palyer - ' + (win_loss_df.index + 1).astype('str')"
   ]
  },
  {
   "cell_type": "code",
   "execution_count": 18,
   "id": "6e1656b7",
   "metadata": {
    "_kg_hide-input": true,
    "execution": {
     "iopub.execute_input": "2024-09-19T21:21:00.253830Z",
     "iopub.status.busy": "2024-09-19T21:21:00.252918Z",
     "iopub.status.idle": "2024-09-19T21:21:00.290135Z",
     "shell.execute_reply": "2024-09-19T21:21:00.289061Z"
    },
    "papermill": {
     "duration": 0.052116,
     "end_time": "2024-09-19T21:21:00.292480",
     "exception": false,
     "start_time": "2024-09-19T21:21:00.240364",
     "status": "completed"
    },
    "tags": []
   },
   "outputs": [
    {
     "data": {
      "text/html": [
       "<div>                            <div id=\"f3b9cefc-ab05-491c-93c2-04cdd0fe1350\" class=\"plotly-graph-div\" style=\"height:700px; width:1050px;\"></div>            <script type=\"text/javascript\">                require([\"plotly\"], function(Plotly) {                    window.PLOTLYENV=window.PLOTLYENV || {};                                    if (document.getElementById(\"f3b9cefc-ab05-491c-93c2-04cdd0fe1350\")) {                    Plotly.newPlot(                        \"f3b9cefc-ab05-491c-93c2-04cdd0fe1350\",                        [{\"name\":\"Win\",\"orientation\":\"h\",\"x\":[21,35,42,51,40,37,15,59,44,26,33,44,20,47,19,43,33,41,12,44,44,15,45,40,19,44,20,32,16],\"y\":[\"Palyer - 1\",\"Palyer - 2\",\"Palyer - 3\",\"Palyer - 4\",\"Palyer - 5\",\"Palyer - 6\",\"Palyer - 7\",\"Palyer - 8\",\"Palyer - 9\",\"Palyer - 10\",\"Palyer - 11\",\"Palyer - 12\",\"Palyer - 13\",\"Palyer - 14\",\"Palyer - 15\",\"Palyer - 16\",\"Palyer - 17\",\"Palyer - 18\",\"Palyer - 19\",\"Palyer - 20\",\"Palyer - 21\",\"Palyer - 22\",\"Palyer - 23\",\"Palyer - 24\",\"Palyer - 25\",\"Palyer - 26\",\"Palyer - 27\",\"Palyer - 28\",\"Palyer - 29\"],\"type\":\"bar\"},{\"name\":\"Loss\",\"orientation\":\"h\",\"x\":[-23,-26,-34,-35,-41,-40,-7,-22,-33,-13,-23,-27,-10,-38,-29,-37,-35,-39,-10,-38,-35,-16,-31,-40,-11,-35,-11,-24,-17],\"y\":[\"Palyer - 1\",\"Palyer - 2\",\"Palyer - 3\",\"Palyer - 4\",\"Palyer - 5\",\"Palyer - 6\",\"Palyer - 7\",\"Palyer - 8\",\"Palyer - 9\",\"Palyer - 10\",\"Palyer - 11\",\"Palyer - 12\",\"Palyer - 13\",\"Palyer - 14\",\"Palyer - 15\",\"Palyer - 16\",\"Palyer - 17\",\"Palyer - 18\",\"Palyer - 19\",\"Palyer - 20\",\"Palyer - 21\",\"Palyer - 22\",\"Palyer - 23\",\"Palyer - 24\",\"Palyer - 25\",\"Palyer - 26\",\"Palyer - 27\",\"Palyer - 28\",\"Palyer - 29\"],\"type\":\"bar\"}],                        {\"template\":{\"data\":{\"barpolar\":[{\"marker\":{\"line\":{\"color\":\"white\",\"width\":0.5},\"pattern\":{\"fillmode\":\"overlay\",\"size\":10,\"solidity\":0.2}},\"type\":\"barpolar\"}],\"bar\":[{\"error_x\":{\"color\":\"#2a3f5f\"},\"error_y\":{\"color\":\"#2a3f5f\"},\"marker\":{\"line\":{\"color\":\"white\",\"width\":0.5},\"pattern\":{\"fillmode\":\"overlay\",\"size\":10,\"solidity\":0.2}},\"type\":\"bar\"}],\"carpet\":[{\"aaxis\":{\"endlinecolor\":\"#2a3f5f\",\"gridcolor\":\"#C8D4E3\",\"linecolor\":\"#C8D4E3\",\"minorgridcolor\":\"#C8D4E3\",\"startlinecolor\":\"#2a3f5f\"},\"baxis\":{\"endlinecolor\":\"#2a3f5f\",\"gridcolor\":\"#C8D4E3\",\"linecolor\":\"#C8D4E3\",\"minorgridcolor\":\"#C8D4E3\",\"startlinecolor\":\"#2a3f5f\"},\"type\":\"carpet\"}],\"choropleth\":[{\"colorbar\":{\"outlinewidth\":0,\"ticks\":\"\"},\"type\":\"choropleth\"}],\"contourcarpet\":[{\"colorbar\":{\"outlinewidth\":0,\"ticks\":\"\"},\"type\":\"contourcarpet\"}],\"contour\":[{\"colorbar\":{\"outlinewidth\":0,\"ticks\":\"\"},\"colorscale\":[[0.0,\"#0d0887\"],[0.1111111111111111,\"#46039f\"],[0.2222222222222222,\"#7201a8\"],[0.3333333333333333,\"#9c179e\"],[0.4444444444444444,\"#bd3786\"],[0.5555555555555556,\"#d8576b\"],[0.6666666666666666,\"#ed7953\"],[0.7777777777777778,\"#fb9f3a\"],[0.8888888888888888,\"#fdca26\"],[1.0,\"#f0f921\"]],\"type\":\"contour\"}],\"heatmapgl\":[{\"colorbar\":{\"outlinewidth\":0,\"ticks\":\"\"},\"colorscale\":[[0.0,\"#0d0887\"],[0.1111111111111111,\"#46039f\"],[0.2222222222222222,\"#7201a8\"],[0.3333333333333333,\"#9c179e\"],[0.4444444444444444,\"#bd3786\"],[0.5555555555555556,\"#d8576b\"],[0.6666666666666666,\"#ed7953\"],[0.7777777777777778,\"#fb9f3a\"],[0.8888888888888888,\"#fdca26\"],[1.0,\"#f0f921\"]],\"type\":\"heatmapgl\"}],\"heatmap\":[{\"colorbar\":{\"outlinewidth\":0,\"ticks\":\"\"},\"colorscale\":[[0.0,\"#0d0887\"],[0.1111111111111111,\"#46039f\"],[0.2222222222222222,\"#7201a8\"],[0.3333333333333333,\"#9c179e\"],[0.4444444444444444,\"#bd3786\"],[0.5555555555555556,\"#d8576b\"],[0.6666666666666666,\"#ed7953\"],[0.7777777777777778,\"#fb9f3a\"],[0.8888888888888888,\"#fdca26\"],[1.0,\"#f0f921\"]],\"type\":\"heatmap\"}],\"histogram2dcontour\":[{\"colorbar\":{\"outlinewidth\":0,\"ticks\":\"\"},\"colorscale\":[[0.0,\"#0d0887\"],[0.1111111111111111,\"#46039f\"],[0.2222222222222222,\"#7201a8\"],[0.3333333333333333,\"#9c179e\"],[0.4444444444444444,\"#bd3786\"],[0.5555555555555556,\"#d8576b\"],[0.6666666666666666,\"#ed7953\"],[0.7777777777777778,\"#fb9f3a\"],[0.8888888888888888,\"#fdca26\"],[1.0,\"#f0f921\"]],\"type\":\"histogram2dcontour\"}],\"histogram2d\":[{\"colorbar\":{\"outlinewidth\":0,\"ticks\":\"\"},\"colorscale\":[[0.0,\"#0d0887\"],[0.1111111111111111,\"#46039f\"],[0.2222222222222222,\"#7201a8\"],[0.3333333333333333,\"#9c179e\"],[0.4444444444444444,\"#bd3786\"],[0.5555555555555556,\"#d8576b\"],[0.6666666666666666,\"#ed7953\"],[0.7777777777777778,\"#fb9f3a\"],[0.8888888888888888,\"#fdca26\"],[1.0,\"#f0f921\"]],\"type\":\"histogram2d\"}],\"histogram\":[{\"marker\":{\"pattern\":{\"fillmode\":\"overlay\",\"size\":10,\"solidity\":0.2}},\"type\":\"histogram\"}],\"mesh3d\":[{\"colorbar\":{\"outlinewidth\":0,\"ticks\":\"\"},\"type\":\"mesh3d\"}],\"parcoords\":[{\"line\":{\"colorbar\":{\"outlinewidth\":0,\"ticks\":\"\"}},\"type\":\"parcoords\"}],\"pie\":[{\"automargin\":true,\"type\":\"pie\"}],\"scatter3d\":[{\"line\":{\"colorbar\":{\"outlinewidth\":0,\"ticks\":\"\"}},\"marker\":{\"colorbar\":{\"outlinewidth\":0,\"ticks\":\"\"}},\"type\":\"scatter3d\"}],\"scattercarpet\":[{\"marker\":{\"colorbar\":{\"outlinewidth\":0,\"ticks\":\"\"}},\"type\":\"scattercarpet\"}],\"scattergeo\":[{\"marker\":{\"colorbar\":{\"outlinewidth\":0,\"ticks\":\"\"}},\"type\":\"scattergeo\"}],\"scattergl\":[{\"marker\":{\"colorbar\":{\"outlinewidth\":0,\"ticks\":\"\"}},\"type\":\"scattergl\"}],\"scattermapbox\":[{\"marker\":{\"colorbar\":{\"outlinewidth\":0,\"ticks\":\"\"}},\"type\":\"scattermapbox\"}],\"scatterpolargl\":[{\"marker\":{\"colorbar\":{\"outlinewidth\":0,\"ticks\":\"\"}},\"type\":\"scatterpolargl\"}],\"scatterpolar\":[{\"marker\":{\"colorbar\":{\"outlinewidth\":0,\"ticks\":\"\"}},\"type\":\"scatterpolar\"}],\"scatter\":[{\"fillpattern\":{\"fillmode\":\"overlay\",\"size\":10,\"solidity\":0.2},\"type\":\"scatter\"}],\"scatterternary\":[{\"marker\":{\"colorbar\":{\"outlinewidth\":0,\"ticks\":\"\"}},\"type\":\"scatterternary\"}],\"surface\":[{\"colorbar\":{\"outlinewidth\":0,\"ticks\":\"\"},\"colorscale\":[[0.0,\"#0d0887\"],[0.1111111111111111,\"#46039f\"],[0.2222222222222222,\"#7201a8\"],[0.3333333333333333,\"#9c179e\"],[0.4444444444444444,\"#bd3786\"],[0.5555555555555556,\"#d8576b\"],[0.6666666666666666,\"#ed7953\"],[0.7777777777777778,\"#fb9f3a\"],[0.8888888888888888,\"#fdca26\"],[1.0,\"#f0f921\"]],\"type\":\"surface\"}],\"table\":[{\"cells\":{\"fill\":{\"color\":\"#EBF0F8\"},\"line\":{\"color\":\"white\"}},\"header\":{\"fill\":{\"color\":\"#C8D4E3\"},\"line\":{\"color\":\"white\"}},\"type\":\"table\"}]},\"layout\":{\"annotationdefaults\":{\"arrowcolor\":\"#2a3f5f\",\"arrowhead\":0,\"arrowwidth\":1},\"autotypenumbers\":\"strict\",\"coloraxis\":{\"colorbar\":{\"outlinewidth\":0,\"ticks\":\"\"}},\"colorscale\":{\"diverging\":[[0,\"#8e0152\"],[0.1,\"#c51b7d\"],[0.2,\"#de77ae\"],[0.3,\"#f1b6da\"],[0.4,\"#fde0ef\"],[0.5,\"#f7f7f7\"],[0.6,\"#e6f5d0\"],[0.7,\"#b8e186\"],[0.8,\"#7fbc41\"],[0.9,\"#4d9221\"],[1,\"#276419\"]],\"sequential\":[[0.0,\"#0d0887\"],[0.1111111111111111,\"#46039f\"],[0.2222222222222222,\"#7201a8\"],[0.3333333333333333,\"#9c179e\"],[0.4444444444444444,\"#bd3786\"],[0.5555555555555556,\"#d8576b\"],[0.6666666666666666,\"#ed7953\"],[0.7777777777777778,\"#fb9f3a\"],[0.8888888888888888,\"#fdca26\"],[1.0,\"#f0f921\"]],\"sequentialminus\":[[0.0,\"#0d0887\"],[0.1111111111111111,\"#46039f\"],[0.2222222222222222,\"#7201a8\"],[0.3333333333333333,\"#9c179e\"],[0.4444444444444444,\"#bd3786\"],[0.5555555555555556,\"#d8576b\"],[0.6666666666666666,\"#ed7953\"],[0.7777777777777778,\"#fb9f3a\"],[0.8888888888888888,\"#fdca26\"],[1.0,\"#f0f921\"]]},\"colorway\":[\"#636efa\",\"#EF553B\",\"#00cc96\",\"#ab63fa\",\"#FFA15A\",\"#19d3f3\",\"#FF6692\",\"#B6E880\",\"#FF97FF\",\"#FECB52\"],\"font\":{\"color\":\"#2a3f5f\"},\"geo\":{\"bgcolor\":\"white\",\"lakecolor\":\"white\",\"landcolor\":\"white\",\"showlakes\":true,\"showland\":true,\"subunitcolor\":\"#C8D4E3\"},\"hoverlabel\":{\"align\":\"left\"},\"hovermode\":\"closest\",\"mapbox\":{\"style\":\"light\"},\"paper_bgcolor\":\"white\",\"plot_bgcolor\":\"white\",\"polar\":{\"angularaxis\":{\"gridcolor\":\"#EBF0F8\",\"linecolor\":\"#EBF0F8\",\"ticks\":\"\"},\"bgcolor\":\"white\",\"radialaxis\":{\"gridcolor\":\"#EBF0F8\",\"linecolor\":\"#EBF0F8\",\"ticks\":\"\"}},\"scene\":{\"xaxis\":{\"backgroundcolor\":\"white\",\"gridcolor\":\"#DFE8F3\",\"gridwidth\":2,\"linecolor\":\"#EBF0F8\",\"showbackground\":true,\"ticks\":\"\",\"zerolinecolor\":\"#EBF0F8\"},\"yaxis\":{\"backgroundcolor\":\"white\",\"gridcolor\":\"#DFE8F3\",\"gridwidth\":2,\"linecolor\":\"#EBF0F8\",\"showbackground\":true,\"ticks\":\"\",\"zerolinecolor\":\"#EBF0F8\"},\"zaxis\":{\"backgroundcolor\":\"white\",\"gridcolor\":\"#DFE8F3\",\"gridwidth\":2,\"linecolor\":\"#EBF0F8\",\"showbackground\":true,\"ticks\":\"\",\"zerolinecolor\":\"#EBF0F8\"}},\"shapedefaults\":{\"line\":{\"color\":\"#2a3f5f\"}},\"ternary\":{\"aaxis\":{\"gridcolor\":\"#DFE8F3\",\"linecolor\":\"#A2B1C6\",\"ticks\":\"\"},\"baxis\":{\"gridcolor\":\"#DFE8F3\",\"linecolor\":\"#A2B1C6\",\"ticks\":\"\"},\"bgcolor\":\"white\",\"caxis\":{\"gridcolor\":\"#DFE8F3\",\"linecolor\":\"#A2B1C6\",\"ticks\":\"\"}},\"title\":{\"x\":0.05},\"xaxis\":{\"automargin\":true,\"gridcolor\":\"#EBF0F8\",\"linecolor\":\"#EBF0F8\",\"ticks\":\"\",\"title\":{\"standoff\":15},\"zerolinecolor\":\"#EBF0F8\",\"zerolinewidth\":2},\"yaxis\":{\"automargin\":true,\"gridcolor\":\"#EBF0F8\",\"linecolor\":\"#EBF0F8\",\"ticks\":\"\",\"title\":{\"standoff\":15},\"zerolinecolor\":\"#EBF0F8\",\"zerolinewidth\":2}}},\"title\":{\"text\":\"Crewmates' Win-Loss Statistics Analysis 📊🏅\",\"x\":0.45},\"xaxis\":{\"title\":{\"text\":\"Win\\u002fLoss Count\"}},\"yaxis\":{\"title\":{\"text\":\"Players\"}},\"barmode\":\"relative\",\"bargap\":0.5,\"width\":1050,\"height\":700},                        {\"responsive\": true}                    ).then(function(){\n",
       "                            \n",
       "var gd = document.getElementById('f3b9cefc-ab05-491c-93c2-04cdd0fe1350');\n",
       "var x = new MutationObserver(function (mutations, observer) {{\n",
       "        var display = window.getComputedStyle(gd).display;\n",
       "        if (!display || display === 'none') {{\n",
       "            console.log([gd, 'removed!']);\n",
       "            Plotly.purge(gd);\n",
       "            observer.disconnect();\n",
       "        }}\n",
       "}});\n",
       "\n",
       "// Listen for the removal of the full notebook cells\n",
       "var notebookContainer = gd.closest('#notebook-container');\n",
       "if (notebookContainer) {{\n",
       "    x.observe(notebookContainer, {childList: true});\n",
       "}}\n",
       "\n",
       "// Listen for the clearing of the current output cell\n",
       "var outputEl = gd.closest('.output');\n",
       "if (outputEl) {{\n",
       "    x.observe(outputEl, {childList: true});\n",
       "}}\n",
       "\n",
       "                        })                };                });            </script>        </div>"
      ]
     },
     "metadata": {},
     "output_type": "display_data"
    }
   ],
   "source": [
    "fig = go.Figure()\n",
    "\n",
    "fig.add_trace(go.Bar(x=win_loss_df['win_count'], y=win_loss_df['Player'], orientation='h', name='Win'))\n",
    "\n",
    "fig.add_trace(go.Bar(x= -win_loss_df['loss_count'], y=win_loss_df['Player'], orientation='h', name='Loss'))\n",
    "\n",
    "fig.update_layout(\n",
    "    title = \"Crewmates' Win-Loss Statistics Analysis 📊🏅\",\n",
    "    title_x=0.45,\n",
    "    xaxis = dict(title = 'Win/Loss Count'),\n",
    "    yaxis = dict(title = 'Players'),\n",
    "    barmode='relative',  # Use 'relative' to stack bars next to each other\n",
    "    bargap=0.5,         # Adjust the gap between bars\n",
    "    width = 1050,\n",
    "    height = 700,\n",
    "    template=\"plotly_white\"\n",
    ")\n",
    "              \n",
    "fig.show()"
   ]
  },
  {
   "cell_type": "markdown",
   "id": "34a6b963",
   "metadata": {
    "papermill": {
     "duration": 0.011549,
     "end_time": "2024-09-19T21:21:00.316229",
     "exception": false,
     "start_time": "2024-09-19T21:21:00.304680",
     "status": "completed"
    },
    "tags": []
   },
   "source": [
    "---"
   ]
  },
  {
   "cell_type": "markdown",
   "id": "58cd3899",
   "metadata": {
    "papermill": {
     "duration": 0.011693,
     "end_time": "2024-09-19T21:21:00.339764",
     "exception": false,
     "start_time": "2024-09-19T21:21:00.328071",
     "status": "completed"
    },
    "tags": []
   },
   "source": [
    "> ## Overall Win-Loss Statistics for Crewmates and Imposters 📊🏅"
   ]
  },
  {
   "cell_type": "code",
   "execution_count": 19,
   "id": "9017d233",
   "metadata": {
    "_kg_hide-input": true,
    "execution": {
     "iopub.execute_input": "2024-09-19T21:21:00.365768Z",
     "iopub.status.busy": "2024-09-19T21:21:00.364720Z",
     "iopub.status.idle": "2024-09-19T21:21:00.378753Z",
     "shell.execute_reply": "2024-09-19T21:21:00.377551Z"
    },
    "papermill": {
     "duration": 0.029663,
     "end_time": "2024-09-19T21:21:00.381222",
     "exception": false,
     "start_time": "2024-09-19T21:21:00.351559",
     "status": "completed"
    },
    "tags": []
   },
   "outputs": [],
   "source": [
    "X = df.copy()[df['Team'] == 'Crewmate']['Outcome'].value_counts()\n",
    "y = df.copy()[df['Team'] == 'Imposter']['Outcome'].value_counts()\n",
    "    \n",
    "win_loss_df = pd.DataFrame([[X['Win'], X['Loss']], [y['Win'], y['Loss']]])\n",
    "win_loss_df.index = ['Crewmate', 'Imposter']"
   ]
  },
  {
   "cell_type": "code",
   "execution_count": 20,
   "id": "ec8a6722",
   "metadata": {
    "_kg_hide-input": true,
    "execution": {
     "iopub.execute_input": "2024-09-19T21:21:00.407675Z",
     "iopub.status.busy": "2024-09-19T21:21:00.406968Z",
     "iopub.status.idle": "2024-09-19T21:21:00.445136Z",
     "shell.execute_reply": "2024-09-19T21:21:00.444117Z"
    },
    "papermill": {
     "duration": 0.054338,
     "end_time": "2024-09-19T21:21:00.447581",
     "exception": false,
     "start_time": "2024-09-19T21:21:00.393243",
     "status": "completed"
    },
    "tags": []
   },
   "outputs": [
    {
     "data": {
      "text/html": [
       "<div>                            <div id=\"9751d4e1-9e58-42c0-bd68-9932fc240170\" class=\"plotly-graph-div\" style=\"height:700px; width:1050px;\"></div>            <script type=\"text/javascript\">                require([\"plotly\"], function(Plotly) {                    window.PLOTLYENV=window.PLOTLYENV || {};                                    if (document.getElementById(\"9751d4e1-9e58-42c0-bd68-9932fc240170\")) {                    Plotly.newPlot(                        \"9751d4e1-9e58-42c0-bd68-9932fc240170\",                        [{\"name\":\"Win\",\"orientation\":\"v\",\"width\":0.45,\"x\":[\"Crewmate\",\"Imposter\"],\"y\":[981,261],\"type\":\"bar\"},{\"name\":\"Loss\",\"orientation\":\"v\",\"width\":0.45,\"x\":[\"Crewmate\",\"Imposter\"],\"y\":[780,205],\"type\":\"bar\"}],                        {\"template\":{\"data\":{\"barpolar\":[{\"marker\":{\"line\":{\"color\":\"white\",\"width\":0.5},\"pattern\":{\"fillmode\":\"overlay\",\"size\":10,\"solidity\":0.2}},\"type\":\"barpolar\"}],\"bar\":[{\"error_x\":{\"color\":\"#2a3f5f\"},\"error_y\":{\"color\":\"#2a3f5f\"},\"marker\":{\"line\":{\"color\":\"white\",\"width\":0.5},\"pattern\":{\"fillmode\":\"overlay\",\"size\":10,\"solidity\":0.2}},\"type\":\"bar\"}],\"carpet\":[{\"aaxis\":{\"endlinecolor\":\"#2a3f5f\",\"gridcolor\":\"#C8D4E3\",\"linecolor\":\"#C8D4E3\",\"minorgridcolor\":\"#C8D4E3\",\"startlinecolor\":\"#2a3f5f\"},\"baxis\":{\"endlinecolor\":\"#2a3f5f\",\"gridcolor\":\"#C8D4E3\",\"linecolor\":\"#C8D4E3\",\"minorgridcolor\":\"#C8D4E3\",\"startlinecolor\":\"#2a3f5f\"},\"type\":\"carpet\"}],\"choropleth\":[{\"colorbar\":{\"outlinewidth\":0,\"ticks\":\"\"},\"type\":\"choropleth\"}],\"contourcarpet\":[{\"colorbar\":{\"outlinewidth\":0,\"ticks\":\"\"},\"type\":\"contourcarpet\"}],\"contour\":[{\"colorbar\":{\"outlinewidth\":0,\"ticks\":\"\"},\"colorscale\":[[0.0,\"#0d0887\"],[0.1111111111111111,\"#46039f\"],[0.2222222222222222,\"#7201a8\"],[0.3333333333333333,\"#9c179e\"],[0.4444444444444444,\"#bd3786\"],[0.5555555555555556,\"#d8576b\"],[0.6666666666666666,\"#ed7953\"],[0.7777777777777778,\"#fb9f3a\"],[0.8888888888888888,\"#fdca26\"],[1.0,\"#f0f921\"]],\"type\":\"contour\"}],\"heatmapgl\":[{\"colorbar\":{\"outlinewidth\":0,\"ticks\":\"\"},\"colorscale\":[[0.0,\"#0d0887\"],[0.1111111111111111,\"#46039f\"],[0.2222222222222222,\"#7201a8\"],[0.3333333333333333,\"#9c179e\"],[0.4444444444444444,\"#bd3786\"],[0.5555555555555556,\"#d8576b\"],[0.6666666666666666,\"#ed7953\"],[0.7777777777777778,\"#fb9f3a\"],[0.8888888888888888,\"#fdca26\"],[1.0,\"#f0f921\"]],\"type\":\"heatmapgl\"}],\"heatmap\":[{\"colorbar\":{\"outlinewidth\":0,\"ticks\":\"\"},\"colorscale\":[[0.0,\"#0d0887\"],[0.1111111111111111,\"#46039f\"],[0.2222222222222222,\"#7201a8\"],[0.3333333333333333,\"#9c179e\"],[0.4444444444444444,\"#bd3786\"],[0.5555555555555556,\"#d8576b\"],[0.6666666666666666,\"#ed7953\"],[0.7777777777777778,\"#fb9f3a\"],[0.8888888888888888,\"#fdca26\"],[1.0,\"#f0f921\"]],\"type\":\"heatmap\"}],\"histogram2dcontour\":[{\"colorbar\":{\"outlinewidth\":0,\"ticks\":\"\"},\"colorscale\":[[0.0,\"#0d0887\"],[0.1111111111111111,\"#46039f\"],[0.2222222222222222,\"#7201a8\"],[0.3333333333333333,\"#9c179e\"],[0.4444444444444444,\"#bd3786\"],[0.5555555555555556,\"#d8576b\"],[0.6666666666666666,\"#ed7953\"],[0.7777777777777778,\"#fb9f3a\"],[0.8888888888888888,\"#fdca26\"],[1.0,\"#f0f921\"]],\"type\":\"histogram2dcontour\"}],\"histogram2d\":[{\"colorbar\":{\"outlinewidth\":0,\"ticks\":\"\"},\"colorscale\":[[0.0,\"#0d0887\"],[0.1111111111111111,\"#46039f\"],[0.2222222222222222,\"#7201a8\"],[0.3333333333333333,\"#9c179e\"],[0.4444444444444444,\"#bd3786\"],[0.5555555555555556,\"#d8576b\"],[0.6666666666666666,\"#ed7953\"],[0.7777777777777778,\"#fb9f3a\"],[0.8888888888888888,\"#fdca26\"],[1.0,\"#f0f921\"]],\"type\":\"histogram2d\"}],\"histogram\":[{\"marker\":{\"pattern\":{\"fillmode\":\"overlay\",\"size\":10,\"solidity\":0.2}},\"type\":\"histogram\"}],\"mesh3d\":[{\"colorbar\":{\"outlinewidth\":0,\"ticks\":\"\"},\"type\":\"mesh3d\"}],\"parcoords\":[{\"line\":{\"colorbar\":{\"outlinewidth\":0,\"ticks\":\"\"}},\"type\":\"parcoords\"}],\"pie\":[{\"automargin\":true,\"type\":\"pie\"}],\"scatter3d\":[{\"line\":{\"colorbar\":{\"outlinewidth\":0,\"ticks\":\"\"}},\"marker\":{\"colorbar\":{\"outlinewidth\":0,\"ticks\":\"\"}},\"type\":\"scatter3d\"}],\"scattercarpet\":[{\"marker\":{\"colorbar\":{\"outlinewidth\":0,\"ticks\":\"\"}},\"type\":\"scattercarpet\"}],\"scattergeo\":[{\"marker\":{\"colorbar\":{\"outlinewidth\":0,\"ticks\":\"\"}},\"type\":\"scattergeo\"}],\"scattergl\":[{\"marker\":{\"colorbar\":{\"outlinewidth\":0,\"ticks\":\"\"}},\"type\":\"scattergl\"}],\"scattermapbox\":[{\"marker\":{\"colorbar\":{\"outlinewidth\":0,\"ticks\":\"\"}},\"type\":\"scattermapbox\"}],\"scatterpolargl\":[{\"marker\":{\"colorbar\":{\"outlinewidth\":0,\"ticks\":\"\"}},\"type\":\"scatterpolargl\"}],\"scatterpolar\":[{\"marker\":{\"colorbar\":{\"outlinewidth\":0,\"ticks\":\"\"}},\"type\":\"scatterpolar\"}],\"scatter\":[{\"fillpattern\":{\"fillmode\":\"overlay\",\"size\":10,\"solidity\":0.2},\"type\":\"scatter\"}],\"scatterternary\":[{\"marker\":{\"colorbar\":{\"outlinewidth\":0,\"ticks\":\"\"}},\"type\":\"scatterternary\"}],\"surface\":[{\"colorbar\":{\"outlinewidth\":0,\"ticks\":\"\"},\"colorscale\":[[0.0,\"#0d0887\"],[0.1111111111111111,\"#46039f\"],[0.2222222222222222,\"#7201a8\"],[0.3333333333333333,\"#9c179e\"],[0.4444444444444444,\"#bd3786\"],[0.5555555555555556,\"#d8576b\"],[0.6666666666666666,\"#ed7953\"],[0.7777777777777778,\"#fb9f3a\"],[0.8888888888888888,\"#fdca26\"],[1.0,\"#f0f921\"]],\"type\":\"surface\"}],\"table\":[{\"cells\":{\"fill\":{\"color\":\"#EBF0F8\"},\"line\":{\"color\":\"white\"}},\"header\":{\"fill\":{\"color\":\"#C8D4E3\"},\"line\":{\"color\":\"white\"}},\"type\":\"table\"}]},\"layout\":{\"annotationdefaults\":{\"arrowcolor\":\"#2a3f5f\",\"arrowhead\":0,\"arrowwidth\":1},\"autotypenumbers\":\"strict\",\"coloraxis\":{\"colorbar\":{\"outlinewidth\":0,\"ticks\":\"\"}},\"colorscale\":{\"diverging\":[[0,\"#8e0152\"],[0.1,\"#c51b7d\"],[0.2,\"#de77ae\"],[0.3,\"#f1b6da\"],[0.4,\"#fde0ef\"],[0.5,\"#f7f7f7\"],[0.6,\"#e6f5d0\"],[0.7,\"#b8e186\"],[0.8,\"#7fbc41\"],[0.9,\"#4d9221\"],[1,\"#276419\"]],\"sequential\":[[0.0,\"#0d0887\"],[0.1111111111111111,\"#46039f\"],[0.2222222222222222,\"#7201a8\"],[0.3333333333333333,\"#9c179e\"],[0.4444444444444444,\"#bd3786\"],[0.5555555555555556,\"#d8576b\"],[0.6666666666666666,\"#ed7953\"],[0.7777777777777778,\"#fb9f3a\"],[0.8888888888888888,\"#fdca26\"],[1.0,\"#f0f921\"]],\"sequentialminus\":[[0.0,\"#0d0887\"],[0.1111111111111111,\"#46039f\"],[0.2222222222222222,\"#7201a8\"],[0.3333333333333333,\"#9c179e\"],[0.4444444444444444,\"#bd3786\"],[0.5555555555555556,\"#d8576b\"],[0.6666666666666666,\"#ed7953\"],[0.7777777777777778,\"#fb9f3a\"],[0.8888888888888888,\"#fdca26\"],[1.0,\"#f0f921\"]]},\"colorway\":[\"#636efa\",\"#EF553B\",\"#00cc96\",\"#ab63fa\",\"#FFA15A\",\"#19d3f3\",\"#FF6692\",\"#B6E880\",\"#FF97FF\",\"#FECB52\"],\"font\":{\"color\":\"#2a3f5f\"},\"geo\":{\"bgcolor\":\"white\",\"lakecolor\":\"white\",\"landcolor\":\"white\",\"showlakes\":true,\"showland\":true,\"subunitcolor\":\"#C8D4E3\"},\"hoverlabel\":{\"align\":\"left\"},\"hovermode\":\"closest\",\"mapbox\":{\"style\":\"light\"},\"paper_bgcolor\":\"white\",\"plot_bgcolor\":\"white\",\"polar\":{\"angularaxis\":{\"gridcolor\":\"#EBF0F8\",\"linecolor\":\"#EBF0F8\",\"ticks\":\"\"},\"bgcolor\":\"white\",\"radialaxis\":{\"gridcolor\":\"#EBF0F8\",\"linecolor\":\"#EBF0F8\",\"ticks\":\"\"}},\"scene\":{\"xaxis\":{\"backgroundcolor\":\"white\",\"gridcolor\":\"#DFE8F3\",\"gridwidth\":2,\"linecolor\":\"#EBF0F8\",\"showbackground\":true,\"ticks\":\"\",\"zerolinecolor\":\"#EBF0F8\"},\"yaxis\":{\"backgroundcolor\":\"white\",\"gridcolor\":\"#DFE8F3\",\"gridwidth\":2,\"linecolor\":\"#EBF0F8\",\"showbackground\":true,\"ticks\":\"\",\"zerolinecolor\":\"#EBF0F8\"},\"zaxis\":{\"backgroundcolor\":\"white\",\"gridcolor\":\"#DFE8F3\",\"gridwidth\":2,\"linecolor\":\"#EBF0F8\",\"showbackground\":true,\"ticks\":\"\",\"zerolinecolor\":\"#EBF0F8\"}},\"shapedefaults\":{\"line\":{\"color\":\"#2a3f5f\"}},\"ternary\":{\"aaxis\":{\"gridcolor\":\"#DFE8F3\",\"linecolor\":\"#A2B1C6\",\"ticks\":\"\"},\"baxis\":{\"gridcolor\":\"#DFE8F3\",\"linecolor\":\"#A2B1C6\",\"ticks\":\"\"},\"bgcolor\":\"white\",\"caxis\":{\"gridcolor\":\"#DFE8F3\",\"linecolor\":\"#A2B1C6\",\"ticks\":\"\"}},\"title\":{\"x\":0.05},\"xaxis\":{\"automargin\":true,\"gridcolor\":\"#EBF0F8\",\"linecolor\":\"#EBF0F8\",\"ticks\":\"\",\"title\":{\"standoff\":15},\"zerolinecolor\":\"#EBF0F8\",\"zerolinewidth\":2},\"yaxis\":{\"automargin\":true,\"gridcolor\":\"#EBF0F8\",\"linecolor\":\"#EBF0F8\",\"ticks\":\"\",\"title\":{\"standoff\":15},\"zerolinecolor\":\"#EBF0F8\",\"zerolinewidth\":2}}},\"title\":{\"text\":\"Overall Win-Loss Statistics for Crewmates and Imposters 📊🏅\",\"x\":0.45},\"xaxis\":{\"title\":{\"text\":\"Team\"}},\"yaxis\":{\"title\":{\"text\":\"Count\"}},\"bargap\":0.1,\"width\":1050,\"height\":700},                        {\"responsive\": true}                    ).then(function(){\n",
       "                            \n",
       "var gd = document.getElementById('9751d4e1-9e58-42c0-bd68-9932fc240170');\n",
       "var x = new MutationObserver(function (mutations, observer) {{\n",
       "        var display = window.getComputedStyle(gd).display;\n",
       "        if (!display || display === 'none') {{\n",
       "            console.log([gd, 'removed!']);\n",
       "            Plotly.purge(gd);\n",
       "            observer.disconnect();\n",
       "        }}\n",
       "}});\n",
       "\n",
       "// Listen for the removal of the full notebook cells\n",
       "var notebookContainer = gd.closest('#notebook-container');\n",
       "if (notebookContainer) {{\n",
       "    x.observe(notebookContainer, {childList: true});\n",
       "}}\n",
       "\n",
       "// Listen for the clearing of the current output cell\n",
       "var outputEl = gd.closest('.output');\n",
       "if (outputEl) {{\n",
       "    x.observe(outputEl, {childList: true});\n",
       "}}\n",
       "\n",
       "                        })                };                });            </script>        </div>"
      ]
     },
     "metadata": {},
     "output_type": "display_data"
    }
   ],
   "source": [
    "fig = go.Figure()\n",
    "\n",
    "fig.add_trace(go.Bar(x=win_loss_df.index, y=win_loss_df[0], orientation='v', name='Win', width = 0.45))\n",
    "\n",
    "fig.add_trace(go.Bar(x= win_loss_df.index, y=win_loss_df[1], orientation='v', name='Loss', width = 0.45))\n",
    "\n",
    "fig.update_layout(\n",
    "    title = \"Overall Win-Loss Statistics for Crewmates and Imposters 📊🏅\",\n",
    "    title_x=0.45,\n",
    "    xaxis = dict(title = 'Team'),\n",
    "    yaxis = dict(title = 'Count'),\n",
    "#     barmode='relative',  # Use 'relative' to stack bars next to each other\n",
    "    bargap=0.1,         # Adjust the gap between bars\n",
    "    width = 1050,\n",
    "    height = 700,\n",
    "    template=\"plotly_white\"\n",
    ")\n",
    "              \n",
    "fig.show()"
   ]
  },
  {
   "cell_type": "markdown",
   "id": "d798646d",
   "metadata": {
    "papermill": {
     "duration": 0.011952,
     "end_time": "2024-09-19T21:21:00.471991",
     "exception": false,
     "start_time": "2024-09-19T21:21:00.460039",
     "status": "completed"
    },
    "tags": []
   },
   "source": [
    "---"
   ]
  },
  {
   "cell_type": "markdown",
   "id": "35db4e64",
   "metadata": {
    "papermill": {
     "duration": 0.012232,
     "end_time": "2024-09-19T21:21:00.496246",
     "exception": false,
     "start_time": "2024-09-19T21:21:00.484014",
     "status": "completed"
    },
    "tags": []
   },
   "source": [
    "> ## Total Trophies Earned by Each Player 🏆✨"
   ]
  },
  {
   "cell_type": "code",
   "execution_count": 21,
   "id": "96e3cae0",
   "metadata": {
    "_kg_hide-input": true,
    "execution": {
     "iopub.execute_input": "2024-09-19T21:21:00.522584Z",
     "iopub.status.busy": "2024-09-19T21:21:00.522180Z",
     "iopub.status.idle": "2024-09-19T21:21:00.552721Z",
     "shell.execute_reply": "2024-09-19T21:21:00.551726Z"
    },
    "papermill": {
     "duration": 0.046565,
     "end_time": "2024-09-19T21:21:00.555218",
     "exception": false,
     "start_time": "2024-09-19T21:21:00.508653",
     "status": "completed"
    },
    "tags": []
   },
   "outputs": [],
   "source": [
    "df['Rank Change'] = df['Rank Change'].fillna(0)\n",
    "players_rank = list()\n",
    "for i in range(1, 30):\n",
    "    count = 1000\n",
    "    user_data = df[df['user_id'] == i]['Rank Change']\n",
    "    \n",
    "    for rank in user_data:\n",
    "        if rank == 0:\n",
    "            continue\n",
    "        elif(rank[0] == '+'):\n",
    "            count += rank.count('+')\n",
    "        else:\n",
    "            count -= rank.count('-')\n",
    "    players_rank.append(count)"
   ]
  },
  {
   "cell_type": "markdown",
   "id": "1946ca2f",
   "metadata": {
    "papermill": {
     "duration": 0.011873,
     "end_time": "2024-09-19T21:21:00.579523",
     "exception": false,
     "start_time": "2024-09-19T21:21:00.567650",
     "status": "completed"
    },
    "tags": []
   },
   "source": [
    "> 📌 Note : I used `1000 as the baseline trophy count` to adjust the totals based on each match's performance."
   ]
  },
  {
   "cell_type": "code",
   "execution_count": 22,
   "id": "6516dc69",
   "metadata": {
    "_kg_hide-input": true,
    "execution": {
     "iopub.execute_input": "2024-09-19T21:21:00.606223Z",
     "iopub.status.busy": "2024-09-19T21:21:00.605435Z",
     "iopub.status.idle": "2024-09-19T21:21:00.645331Z",
     "shell.execute_reply": "2024-09-19T21:21:00.644251Z"
    },
    "papermill": {
     "duration": 0.055818,
     "end_time": "2024-09-19T21:21:00.647618",
     "exception": false,
     "start_time": "2024-09-19T21:21:00.591800",
     "status": "completed"
    },
    "tags": []
   },
   "outputs": [
    {
     "data": {
      "text/html": [
       "<div>                            <div id=\"404b3ccc-863d-44ee-a4c6-77ee133d1fb1\" class=\"plotly-graph-div\" style=\"height:700px; width:1500px;\"></div>            <script type=\"text/javascript\">                require([\"plotly\"], function(Plotly) {                    window.PLOTLYENV=window.PLOTLYENV || {};                                    if (document.getElementById(\"404b3ccc-863d-44ee-a4c6-77ee133d1fb1\")) {                    Plotly.newPlot(                        \"404b3ccc-863d-44ee-a4c6-77ee133d1fb1\",                        [{\"marker\":{\"size\":12},\"mode\":\"markers+text\",\"text\":[\"990 🏆\",\"1008 🏆\",\"1021 🏆\",\"1031 🏆\",\"970 🏆\",\"983 🏆\",\"1022 🏆\",\"1079 🏆\",\"1032 🏆\",\"1025 🏆\",\"1024 🏆\",\"1037 🏆\",\"1013 🏆\",\"1012 🏆\",\"998 🏆\",\"1035 🏆\",\"976 🏆\",\"994 🏆\",\"1018 🏆\",\"985 🏆\",\"1038 🏆\",\"1001 🏆\",\"1035 🏆\",\"989 🏆\",\"1024 🏆\",\"1008 🏆\",\"1008 🏆\",\"1033 🏆\",\"990 🏆\"],\"textposition\":\"bottom center\",\"x\":[1,2,3,4,5,6,7,8,9,10,11,12,13,14,15,16,17,18,19,20,21,22,23,24,25,26,27,28,29],\"y\":[990,1008,1021,1031,970,983,1022,1079,1032,1025,1024,1037,1013,1012,998,1035,976,994,1018,985,1038,1001,1035,989,1024,1008,1008,1033,990],\"type\":\"scatter\"}],                        {\"template\":{\"data\":{\"barpolar\":[{\"marker\":{\"line\":{\"color\":\"white\",\"width\":0.5},\"pattern\":{\"fillmode\":\"overlay\",\"size\":10,\"solidity\":0.2}},\"type\":\"barpolar\"}],\"bar\":[{\"error_x\":{\"color\":\"#2a3f5f\"},\"error_y\":{\"color\":\"#2a3f5f\"},\"marker\":{\"line\":{\"color\":\"white\",\"width\":0.5},\"pattern\":{\"fillmode\":\"overlay\",\"size\":10,\"solidity\":0.2}},\"type\":\"bar\"}],\"carpet\":[{\"aaxis\":{\"endlinecolor\":\"#2a3f5f\",\"gridcolor\":\"#C8D4E3\",\"linecolor\":\"#C8D4E3\",\"minorgridcolor\":\"#C8D4E3\",\"startlinecolor\":\"#2a3f5f\"},\"baxis\":{\"endlinecolor\":\"#2a3f5f\",\"gridcolor\":\"#C8D4E3\",\"linecolor\":\"#C8D4E3\",\"minorgridcolor\":\"#C8D4E3\",\"startlinecolor\":\"#2a3f5f\"},\"type\":\"carpet\"}],\"choropleth\":[{\"colorbar\":{\"outlinewidth\":0,\"ticks\":\"\"},\"type\":\"choropleth\"}],\"contourcarpet\":[{\"colorbar\":{\"outlinewidth\":0,\"ticks\":\"\"},\"type\":\"contourcarpet\"}],\"contour\":[{\"colorbar\":{\"outlinewidth\":0,\"ticks\":\"\"},\"colorscale\":[[0.0,\"#0d0887\"],[0.1111111111111111,\"#46039f\"],[0.2222222222222222,\"#7201a8\"],[0.3333333333333333,\"#9c179e\"],[0.4444444444444444,\"#bd3786\"],[0.5555555555555556,\"#d8576b\"],[0.6666666666666666,\"#ed7953\"],[0.7777777777777778,\"#fb9f3a\"],[0.8888888888888888,\"#fdca26\"],[1.0,\"#f0f921\"]],\"type\":\"contour\"}],\"heatmapgl\":[{\"colorbar\":{\"outlinewidth\":0,\"ticks\":\"\"},\"colorscale\":[[0.0,\"#0d0887\"],[0.1111111111111111,\"#46039f\"],[0.2222222222222222,\"#7201a8\"],[0.3333333333333333,\"#9c179e\"],[0.4444444444444444,\"#bd3786\"],[0.5555555555555556,\"#d8576b\"],[0.6666666666666666,\"#ed7953\"],[0.7777777777777778,\"#fb9f3a\"],[0.8888888888888888,\"#fdca26\"],[1.0,\"#f0f921\"]],\"type\":\"heatmapgl\"}],\"heatmap\":[{\"colorbar\":{\"outlinewidth\":0,\"ticks\":\"\"},\"colorscale\":[[0.0,\"#0d0887\"],[0.1111111111111111,\"#46039f\"],[0.2222222222222222,\"#7201a8\"],[0.3333333333333333,\"#9c179e\"],[0.4444444444444444,\"#bd3786\"],[0.5555555555555556,\"#d8576b\"],[0.6666666666666666,\"#ed7953\"],[0.7777777777777778,\"#fb9f3a\"],[0.8888888888888888,\"#fdca26\"],[1.0,\"#f0f921\"]],\"type\":\"heatmap\"}],\"histogram2dcontour\":[{\"colorbar\":{\"outlinewidth\":0,\"ticks\":\"\"},\"colorscale\":[[0.0,\"#0d0887\"],[0.1111111111111111,\"#46039f\"],[0.2222222222222222,\"#7201a8\"],[0.3333333333333333,\"#9c179e\"],[0.4444444444444444,\"#bd3786\"],[0.5555555555555556,\"#d8576b\"],[0.6666666666666666,\"#ed7953\"],[0.7777777777777778,\"#fb9f3a\"],[0.8888888888888888,\"#fdca26\"],[1.0,\"#f0f921\"]],\"type\":\"histogram2dcontour\"}],\"histogram2d\":[{\"colorbar\":{\"outlinewidth\":0,\"ticks\":\"\"},\"colorscale\":[[0.0,\"#0d0887\"],[0.1111111111111111,\"#46039f\"],[0.2222222222222222,\"#7201a8\"],[0.3333333333333333,\"#9c179e\"],[0.4444444444444444,\"#bd3786\"],[0.5555555555555556,\"#d8576b\"],[0.6666666666666666,\"#ed7953\"],[0.7777777777777778,\"#fb9f3a\"],[0.8888888888888888,\"#fdca26\"],[1.0,\"#f0f921\"]],\"type\":\"histogram2d\"}],\"histogram\":[{\"marker\":{\"pattern\":{\"fillmode\":\"overlay\",\"size\":10,\"solidity\":0.2}},\"type\":\"histogram\"}],\"mesh3d\":[{\"colorbar\":{\"outlinewidth\":0,\"ticks\":\"\"},\"type\":\"mesh3d\"}],\"parcoords\":[{\"line\":{\"colorbar\":{\"outlinewidth\":0,\"ticks\":\"\"}},\"type\":\"parcoords\"}],\"pie\":[{\"automargin\":true,\"type\":\"pie\"}],\"scatter3d\":[{\"line\":{\"colorbar\":{\"outlinewidth\":0,\"ticks\":\"\"}},\"marker\":{\"colorbar\":{\"outlinewidth\":0,\"ticks\":\"\"}},\"type\":\"scatter3d\"}],\"scattercarpet\":[{\"marker\":{\"colorbar\":{\"outlinewidth\":0,\"ticks\":\"\"}},\"type\":\"scattercarpet\"}],\"scattergeo\":[{\"marker\":{\"colorbar\":{\"outlinewidth\":0,\"ticks\":\"\"}},\"type\":\"scattergeo\"}],\"scattergl\":[{\"marker\":{\"colorbar\":{\"outlinewidth\":0,\"ticks\":\"\"}},\"type\":\"scattergl\"}],\"scattermapbox\":[{\"marker\":{\"colorbar\":{\"outlinewidth\":0,\"ticks\":\"\"}},\"type\":\"scattermapbox\"}],\"scatterpolargl\":[{\"marker\":{\"colorbar\":{\"outlinewidth\":0,\"ticks\":\"\"}},\"type\":\"scatterpolargl\"}],\"scatterpolar\":[{\"marker\":{\"colorbar\":{\"outlinewidth\":0,\"ticks\":\"\"}},\"type\":\"scatterpolar\"}],\"scatter\":[{\"fillpattern\":{\"fillmode\":\"overlay\",\"size\":10,\"solidity\":0.2},\"type\":\"scatter\"}],\"scatterternary\":[{\"marker\":{\"colorbar\":{\"outlinewidth\":0,\"ticks\":\"\"}},\"type\":\"scatterternary\"}],\"surface\":[{\"colorbar\":{\"outlinewidth\":0,\"ticks\":\"\"},\"colorscale\":[[0.0,\"#0d0887\"],[0.1111111111111111,\"#46039f\"],[0.2222222222222222,\"#7201a8\"],[0.3333333333333333,\"#9c179e\"],[0.4444444444444444,\"#bd3786\"],[0.5555555555555556,\"#d8576b\"],[0.6666666666666666,\"#ed7953\"],[0.7777777777777778,\"#fb9f3a\"],[0.8888888888888888,\"#fdca26\"],[1.0,\"#f0f921\"]],\"type\":\"surface\"}],\"table\":[{\"cells\":{\"fill\":{\"color\":\"#EBF0F8\"},\"line\":{\"color\":\"white\"}},\"header\":{\"fill\":{\"color\":\"#C8D4E3\"},\"line\":{\"color\":\"white\"}},\"type\":\"table\"}]},\"layout\":{\"annotationdefaults\":{\"arrowcolor\":\"#2a3f5f\",\"arrowhead\":0,\"arrowwidth\":1},\"autotypenumbers\":\"strict\",\"coloraxis\":{\"colorbar\":{\"outlinewidth\":0,\"ticks\":\"\"}},\"colorscale\":{\"diverging\":[[0,\"#8e0152\"],[0.1,\"#c51b7d\"],[0.2,\"#de77ae\"],[0.3,\"#f1b6da\"],[0.4,\"#fde0ef\"],[0.5,\"#f7f7f7\"],[0.6,\"#e6f5d0\"],[0.7,\"#b8e186\"],[0.8,\"#7fbc41\"],[0.9,\"#4d9221\"],[1,\"#276419\"]],\"sequential\":[[0.0,\"#0d0887\"],[0.1111111111111111,\"#46039f\"],[0.2222222222222222,\"#7201a8\"],[0.3333333333333333,\"#9c179e\"],[0.4444444444444444,\"#bd3786\"],[0.5555555555555556,\"#d8576b\"],[0.6666666666666666,\"#ed7953\"],[0.7777777777777778,\"#fb9f3a\"],[0.8888888888888888,\"#fdca26\"],[1.0,\"#f0f921\"]],\"sequentialminus\":[[0.0,\"#0d0887\"],[0.1111111111111111,\"#46039f\"],[0.2222222222222222,\"#7201a8\"],[0.3333333333333333,\"#9c179e\"],[0.4444444444444444,\"#bd3786\"],[0.5555555555555556,\"#d8576b\"],[0.6666666666666666,\"#ed7953\"],[0.7777777777777778,\"#fb9f3a\"],[0.8888888888888888,\"#fdca26\"],[1.0,\"#f0f921\"]]},\"colorway\":[\"#636efa\",\"#EF553B\",\"#00cc96\",\"#ab63fa\",\"#FFA15A\",\"#19d3f3\",\"#FF6692\",\"#B6E880\",\"#FF97FF\",\"#FECB52\"],\"font\":{\"color\":\"#2a3f5f\"},\"geo\":{\"bgcolor\":\"white\",\"lakecolor\":\"white\",\"landcolor\":\"white\",\"showlakes\":true,\"showland\":true,\"subunitcolor\":\"#C8D4E3\"},\"hoverlabel\":{\"align\":\"left\"},\"hovermode\":\"closest\",\"mapbox\":{\"style\":\"light\"},\"paper_bgcolor\":\"white\",\"plot_bgcolor\":\"white\",\"polar\":{\"angularaxis\":{\"gridcolor\":\"#EBF0F8\",\"linecolor\":\"#EBF0F8\",\"ticks\":\"\"},\"bgcolor\":\"white\",\"radialaxis\":{\"gridcolor\":\"#EBF0F8\",\"linecolor\":\"#EBF0F8\",\"ticks\":\"\"}},\"scene\":{\"xaxis\":{\"backgroundcolor\":\"white\",\"gridcolor\":\"#DFE8F3\",\"gridwidth\":2,\"linecolor\":\"#EBF0F8\",\"showbackground\":true,\"ticks\":\"\",\"zerolinecolor\":\"#EBF0F8\"},\"yaxis\":{\"backgroundcolor\":\"white\",\"gridcolor\":\"#DFE8F3\",\"gridwidth\":2,\"linecolor\":\"#EBF0F8\",\"showbackground\":true,\"ticks\":\"\",\"zerolinecolor\":\"#EBF0F8\"},\"zaxis\":{\"backgroundcolor\":\"white\",\"gridcolor\":\"#DFE8F3\",\"gridwidth\":2,\"linecolor\":\"#EBF0F8\",\"showbackground\":true,\"ticks\":\"\",\"zerolinecolor\":\"#EBF0F8\"}},\"shapedefaults\":{\"line\":{\"color\":\"#2a3f5f\"}},\"ternary\":{\"aaxis\":{\"gridcolor\":\"#DFE8F3\",\"linecolor\":\"#A2B1C6\",\"ticks\":\"\"},\"baxis\":{\"gridcolor\":\"#DFE8F3\",\"linecolor\":\"#A2B1C6\",\"ticks\":\"\"},\"bgcolor\":\"white\",\"caxis\":{\"gridcolor\":\"#DFE8F3\",\"linecolor\":\"#A2B1C6\",\"ticks\":\"\"}},\"title\":{\"x\":0.05},\"xaxis\":{\"automargin\":true,\"gridcolor\":\"#EBF0F8\",\"linecolor\":\"#EBF0F8\",\"ticks\":\"\",\"title\":{\"standoff\":15},\"zerolinecolor\":\"#EBF0F8\",\"zerolinewidth\":2},\"yaxis\":{\"automargin\":true,\"gridcolor\":\"#EBF0F8\",\"linecolor\":\"#EBF0F8\",\"ticks\":\"\",\"title\":{\"standoff\":15},\"zerolinecolor\":\"#EBF0F8\",\"zerolinewidth\":2}}},\"title\":{\"text\":\"Total Trophies Earned by Each Player 🏆✨\",\"x\":0.45},\"xaxis\":{\"title\":{\"text\":\"Players\"},\"tickvals\":[1,2,3,4,5,6,7,8,9,10,11,12,13,14,15,16,17,18,19,20,21,22,23,24,25,26,27,28,29]},\"yaxis\":{\"title\":{\"text\":\"Total Trophies\"}},\"width\":1500,\"height\":700},                        {\"responsive\": true}                    ).then(function(){\n",
       "                            \n",
       "var gd = document.getElementById('404b3ccc-863d-44ee-a4c6-77ee133d1fb1');\n",
       "var x = new MutationObserver(function (mutations, observer) {{\n",
       "        var display = window.getComputedStyle(gd).display;\n",
       "        if (!display || display === 'none') {{\n",
       "            console.log([gd, 'removed!']);\n",
       "            Plotly.purge(gd);\n",
       "            observer.disconnect();\n",
       "        }}\n",
       "}});\n",
       "\n",
       "// Listen for the removal of the full notebook cells\n",
       "var notebookContainer = gd.closest('#notebook-container');\n",
       "if (notebookContainer) {{\n",
       "    x.observe(notebookContainer, {childList: true});\n",
       "}}\n",
       "\n",
       "// Listen for the clearing of the current output cell\n",
       "var outputEl = gd.closest('.output');\n",
       "if (outputEl) {{\n",
       "    x.observe(outputEl, {childList: true});\n",
       "}}\n",
       "\n",
       "                        })                };                });            </script>        </div>"
      ]
     },
     "metadata": {},
     "output_type": "display_data"
    }
   ],
   "source": [
    "fig = go.Figure()\n",
    "fig.add_trace(go.Scatter(\n",
    "    x = np.arange(1, 30),\n",
    "    y = players_rank,\n",
    "    mode=\"markers+text\",\n",
    "    marker = dict(size = 12),\n",
    "    # line=dict(width=1),\n",
    "    text = [f\"{players_rank[i]} 🏆\" for i in range(0, 29)],\n",
    "    textposition=\"bottom center\",\n",
    "))\n",
    "fig.update_layout(\n",
    "    title = \"Total Trophies Earned by Each Player 🏆✨\",\n",
    "    title_x = 0.45,\n",
    "    xaxis = dict(title = \"Players\", tickvals = np.arange(1, 30)), \n",
    "    yaxis = dict(title = 'Total Trophies'),\n",
    "    width = 1500,\n",
    "    height = 700,\n",
    "    template=\"plotly_white\"\n",
    ")\n",
    "fig.show()"
   ]
  },
  {
   "cell_type": "markdown",
   "id": "9487de93",
   "metadata": {
    "papermill": {
     "duration": 0.012807,
     "end_time": "2024-09-19T21:21:00.673351",
     "exception": false,
     "start_time": "2024-09-19T21:21:00.660544",
     "status": "completed"
    },
    "tags": []
   },
   "source": [
    "---"
   ]
  },
  {
   "cell_type": "markdown",
   "id": "3c2612ad",
   "metadata": {
    "papermill": {
     "duration": 0.012093,
     "end_time": "2024-09-19T21:21:00.698115",
     "exception": false,
     "start_time": "2024-09-19T21:21:00.686022",
     "status": "completed"
    },
    "tags": []
   },
   "source": [
    "<div><h3><center>🚧 Work in progress</center></h3></div>"
   ]
  }
 ],
 "metadata": {
  "kaggle": {
   "accelerator": "none",
   "dataSources": [
    {
     "datasetId": 1032172,
     "sourceId": 1823523,
     "sourceType": "datasetVersion"
    }
   ],
   "dockerImageVersionId": 30761,
   "isGpuEnabled": false,
   "isInternetEnabled": true,
   "language": "python",
   "sourceType": "notebook"
  },
  "kernelspec": {
   "display_name": "Python 3",
   "language": "python",
   "name": "python3"
  },
  "language_info": {
   "codemirror_mode": {
    "name": "ipython",
    "version": 3
   },
   "file_extension": ".py",
   "mimetype": "text/x-python",
   "name": "python",
   "nbconvert_exporter": "python",
   "pygments_lexer": "ipython3",
   "version": "3.10.14"
  },
  "papermill": {
   "default_parameters": {},
   "duration": 10.424626,
   "end_time": "2024-09-19T21:21:01.331459",
   "environment_variables": {},
   "exception": null,
   "input_path": "__notebook__.ipynb",
   "output_path": "__notebook__.ipynb",
   "parameters": {},
   "start_time": "2024-09-19T21:20:50.906833",
   "version": "2.6.0"
  }
 },
 "nbformat": 4,
 "nbformat_minor": 5
}
